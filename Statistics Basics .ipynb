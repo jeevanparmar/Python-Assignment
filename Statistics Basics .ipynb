{
 "cells": [
  {
   "cell_type": "markdown",
   "id": "c7c6f766-78da-4adb-ba8d-3cd057fcac27",
   "metadata": {},
   "source": [
    "**Statistics Basics**"
   ]
  },
  {
   "cell_type": "markdown",
   "id": "af7b2856-975e-41f3-9452-6dce617f634e",
   "metadata": {},
   "source": [
    "**1. What is statistics, and why is it important?**\n",
    "Statistics is the science of collecting, analyzing, interpreting, presenting, and organizing data. It's important because it helps in decision-making, identifying trends, and making predictions based on data.\n",
    "\n",
    "**2. What are the two main types of statistics?**\n",
    "\n",
    "* **Descriptive Statistics**: Summarizes data (e.g., mean, median, mode).\n",
    "* **Inferential Statistics**: Makes predictions or inferences about a population based on sample data.\n",
    "\n",
    "**3. What are descriptive statistics?**\n",
    "Descriptive statistics describe and summarize features of a dataset using measures like mean, median, mode, standard deviation, etc.\n",
    "\n",
    "**4. What is inferential statistics?**\n",
    "Inferential statistics use sample data to make generalizations or predictions about a larger population, often involving probability and hypothesis testing.\n",
    "\n",
    "**5. What is sampling in statistics?**\n",
    "Sampling is the process of selecting a subset of individuals from a population to analyze and draw conclusions about the entire population.\n",
    "\n",
    "**6. What are the different types of sampling methods?**\n",
    "\n",
    "* **Random Sampling** (Simple, Stratified, Systematic, Cluster)\n",
    "* **Non-Random Sampling** (Convenience, Judgmental, Snowball, Quota)\n",
    "\n",
    "**7. What is the difference between random and non-random sampling?**\n",
    "\n",
    "* **Random Sampling**: Every individual has an equal chance of being selected (unbiased).\n",
    "* **Non-Random Sampling**: Selection is based on criteria or convenience (may be biased).\n",
    "\n",
    "**8. Define and give examples of qualitative and quantitative data.**\n",
    "\n",
    "* **Qualitative (Categorical)**: Describes qualities (e.g., colors, gender, brand).\n",
    "* **Quantitative (Numerical)**: Represents measurable quantities (e.g., height, age, income).\n",
    "\n",
    "**9. What are the different types of data in statistics?**\n",
    "\n",
    "* **Categorical (Qualitative)**: Nominal, Ordinal\n",
    "* **Numerical (Quantitative)**: Discrete, Continuous\n",
    "\n",
    "**10. Explain nominal, ordinal, interval, and ratio levels of measurement.**\n",
    "\n",
    "* **Nominal**: Categories (e.g., gender)\n",
    "* **Ordinal**: Ordered categories (e.g., rankings)\n",
    "* **Interval**: Numerical with equal intervals but no true zero (e.g., temperature in °C)\n",
    "* **Ratio**: Like interval, but has a true zero (e.g., weight, height)\n",
    "\n",
    "**11. What is the measure of central tendency?**\n",
    "It represents the center or average of a dataset, commonly measured using mean, median, and mode.\n",
    "\n",
    "**12. Define mean, median, and mode.**\n",
    "\n",
    "* **Mean**: Average of values\n",
    "* **Median**: Middle value in ordered data\n",
    "* **Mode**: Most frequently occurring value\n",
    "\n",
    "**13. What is the significance of the measure of central tendency?**\n",
    "It helps summarize a dataset with a single representative value, aiding comparison and understanding of distributions.\n",
    "\n",
    "**14. What is variance, and how is it calculated?**\n",
    "Variance measures the average squared deviation from the mean.\n",
    "Formula:\n",
    "\n",
    "$$\n",
    "\\text{Variance} = \\frac{1}{n} \\sum (x_i - \\bar{x})^2\n",
    "$$\n",
    "\n",
    "**15. What is standard deviation, and why is it important?**\n",
    "Standard deviation is the square root of variance; it shows how much data varies from the mean. It’s crucial for understanding data spread and consistency.\n",
    "\n",
    "**16. Define and explain the term range in statistics.**\n",
    "Range is the difference between the maximum and minimum values in a dataset.\n",
    "\n",
    "$$\n",
    "\\text{Range} = \\text{Max} - \\text{Min}\n",
    "$$\n",
    "\n",
    "**17. What is the difference between variance and standard deviation?**\n",
    "Variance is the average squared deviation; standard deviation is its square root. SD is in the same unit as the data, making it more interpretable.\n",
    "\n",
    "**18. What is skewness in a dataset?**\n",
    "Skewness measures the asymmetry of a distribution. A dataset can be symmetrical, positively skewed, or negatively skewed.\n",
    "\n",
    "**19. What does it mean if a dataset is positively or negatively skewed?**\n",
    "\n",
    "* **Positive Skew**: Tail on the right; mean > median\n",
    "* **Negative Skew**: Tail on the left; mean < median\n",
    "\n",
    "**20. Define and explain kurtosis.**\n",
    "Kurtosis measures the \"tailedness\" of a distribution.\n",
    "\n",
    "* **High kurtosis**: More outliers (heavy tails)\n",
    "* **Low kurtosis**: Fewer outliers (light tails)\n",
    "\n",
    "**21. What is the purpose of covariance?**\n",
    "Covariance measures how two variables change together.\n",
    "\n",
    "* Positive: move in same direction\n",
    "* Negative: move in opposite direction\n",
    "\n",
    "**22. What does correlation measure in statistics?**\n",
    "Correlation quantifies the strength and direction of a linear relationship between two variables (range: -1 to 1).\n",
    "\n",
    "**23. What is the difference between covariance and correlation?**\n",
    "\n",
    "* **Covariance**: Measures direction of relationship (unit-dependent)\n",
    "* **Correlation**: Standardized measure (unit-free, scaled between -1 and 1)\n",
    "\n",
    "**24. What are some real-world applications of statistics?**\n",
    "\n",
    "* **Healthcare**: Analyzing treatment effectiveness\n",
    "* **Business**: Market research, sales forecasting\n",
    "* **Education**: Performance analysis\n",
    "* **Politics**: Polling and predictions\n",
    "* **Sports**: Player performance evaluation"
   ]
  },
  {
   "cell_type": "markdown",
   "id": "272f8024-b59c-4144-9e78-f9d6cfab26bf",
   "metadata": {},
   "source": [
    "****------------------------------------------ Practical -------------------------------------------------------------****"
   ]
  },
  {
   "cell_type": "markdown",
   "id": "9c2bb0f4-89ac-4a93-abec-006deca89c85",
   "metadata": {},
   "source": [
    "Q.1 How do you calculate the mean, median, and mode of a dataset?"
   ]
  },
  {
   "cell_type": "code",
   "execution_count": 2,
   "id": "649eaf7a-6117-4f4a-be0c-55e4022c3bc7",
   "metadata": {},
   "outputs": [
    {
     "name": "stdout",
     "output_type": "stream",
     "text": [
      "Mean: 15.428571428571429\n",
      "Median: 15\n",
      "Mode: 12\n"
     ]
    }
   ],
   "source": [
    "import statistics as stats\n",
    "\n",
    "data = [12, 15, 12, 18, 19, 12, 20]\n",
    "mean = stats.mean(data)\n",
    "median = stats.median(data)\n",
    "mode = stats.mode(data)\n",
    "\n",
    "print(\"Mean:\", mean)\n",
    "print(\"Median:\", median)\n",
    "print(\"Mode:\", mode)\n"
   ]
  },
  {
   "cell_type": "code",
   "execution_count": 3,
   "id": "1ccc1ef4-7af1-4354-9e44-3e02d0c39e8a",
   "metadata": {},
   "outputs": [
    {
     "name": "stdout",
     "output_type": "stream",
     "text": [
      "Variance: 27.428571428571427\n",
      "Standard Deviation: 5.237229365663818\n"
     ]
    }
   ],
   "source": [
    "# Q 2. Write a Python program to compute the variance and standard deviation of a dataset\n",
    "data = [10, 12, 23, 23, 16, 23, 21, 16]\n",
    "variance = stats.variance(data)\n",
    "std_dev = stats.stdev(data)\n",
    "\n",
    "print(\"Variance:\", variance)\n",
    "print(\"Standard Deviation:\", std_dev)"
   ]
  },
  {
   "cell_type": "raw",
   "id": "dcb00cac-3d68-499b-8665-3c85aedf4c1d",
   "metadata": {},
   "source": [
    "Q.3. Create a dataset and classify it into nominal, ordinal, interval, and ratio types"
   ]
  },
  {
   "cell_type": "code",
   "execution_count": 4,
   "id": "21e4507f-9542-4659-9d9e-57ac3b080679",
   "metadata": {},
   "outputs": [
    {
     "name": "stdout",
     "output_type": "stream",
     "text": [
      "{'Nominal': ['Red', 'Blue', 'Green'], 'Ordinal': ['Low', 'Medium', 'High'], 'Interval': [20, 30, 40], 'Ratio': [150, 160, 170]}\n"
     ]
    }
   ],
   "source": [
    "dataset = {\n",
    "    \"Nominal\": [\"Red\", \"Blue\", \"Green\"],  # No order\n",
    "    \"Ordinal\": [\"Low\", \"Medium\", \"High\"],  # Ordered categories\n",
    "    \"Interval\": [20, 30, 40],  # Temperature in Celsius (no true zero)\n",
    "    \"Ratio\": [150, 160, 170]  # Heights (true zero)\n",
    "}\n",
    "print(dataset)\n"
   ]
  },
  {
   "cell_type": "code",
   "execution_count": 7,
   "id": "a4f61688-c16b-4e52-83c6-d66145de7952",
   "metadata": {},
   "outputs": [
    {
     "name": "stdout",
     "output_type": "stream",
     "text": [
      "Random Sample:\n",
      "   Name Group\n",
      "3    D    G2\n",
      "1    B    G2\n",
      "0    A    G1\n",
      "Stratified Sample:\n",
      "   Name Group\n",
      "4    E    G1\n",
      "1    B    G2\n"
     ]
    },
    {
     "name": "stderr",
     "output_type": "stream",
     "text": [
      "C:\\Users\\Ritesh\\AppData\\Local\\Temp\\ipykernel_8108\\2403650366.py:14: DeprecationWarning: DataFrameGroupBy.apply operated on the grouping columns. This behavior is deprecated, and in a future version of pandas the grouping columns will be excluded from the operation. Either pass `include_groups=False` to exclude the groupings or explicitly select the grouping columns after groupby to silence this warning.\n",
      "  stratified_sample = df.groupby(\"Group\", group_keys=False).apply(lambda x: x.sample(1))\n"
     ]
    }
   ],
   "source": [
    "#Q. 4. Implement random sampling and stratified sampling\n",
    "import pandas as pd\n",
    "\n",
    "# Example dataset\n",
    "df = pd.DataFrame({\n",
    "    \"Name\": ['A', 'B', 'C', 'D', 'E', 'F'],\n",
    "    \"Group\": ['G1', 'G2', 'G1', 'G2', 'G1', 'G2']\n",
    "})\n",
    "\n",
    "# Random sampling\n",
    "random_sample = df.sample(n=3)\n",
    "\n",
    "# Stratified sampling\n",
    "stratified_sample = df.groupby(\"Group\", group_keys=False).apply(lambda x: x.sample(1))\n",
    "\n",
    "print(\"Random Sample:\\n\", random_sample)\n",
    "print(\"Stratified Sample:\\n\", stratified_sample)\n"
   ]
  },
  {
   "cell_type": "code",
   "execution_count": 8,
   "id": "28ebd7e1-d618-4509-a4fc-af88d6dac92b",
   "metadata": {},
   "outputs": [
    {
     "name": "stdout",
     "output_type": "stream",
     "text": [
      "Range: 15\n"
     ]
    }
   ],
   "source": [
    "# Q 5. Write a Python function to calculate the range of a dataset\n",
    "def calculate_range(data):\n",
    "    return max(data) - min(data)\n",
    "\n",
    "data = [5, 10, 15, 20]\n",
    "print(\"Range:\", calculate_range(data))\n",
    "\n"
   ]
  },
  {
   "cell_type": "code",
   "execution_count": 18,
   "id": "7a914e08-2a41-4878-8750-a933a3dcb750",
   "metadata": {},
   "outputs": [
    {
     "data": {
      "image/png": "[encoded data removed]",
      "text/plain": [
       "<Figure size 640x480 with 1 Axes>"
      ]
     },
     "metadata": {},
     "output_type": "display_data"
    }
   ],
   "source": [
    "# Q6. Create a dataset and plot its histogram to visualize skewness\n",
    "import matplotlib.pyplot as plt\n",
    "import numpy as np\n",
    "\n",
    "data = np.random.exponential(scale=2, size=1000)  # Skewed right\n",
    "plt.hist(data, bins=30, edgecolor='black')\n",
    "plt.title(\"Histogram of Skewed Data\")\n",
    "plt.xlabel(\"Value\")\n",
    "plt.ylabel(\"Frequency\")\n",
    "plt.show()\n"
   ]
  },
  {
   "cell_type": "code",
   "execution_count": 10,
   "id": "a50740b4-4efc-4d75-a495-d393a8bc66b0",
   "metadata": {},
   "outputs": [],
   "source": [
    "# Q 7. Calculate skewness and kurtosis of a dataset using Python libraries\n",
    "from scipy.stats import skew, kurtosis\n",
    "\n",
    "data = np.random.normal(loc=0, scale=1, size=1000)\n",
    "print(\"Skewness:\", skew(data))\n",
    "print(\"Kurtosis:\", kurtosis(data))\n"
   ]
  },
  {
   "cell_type": "code",
   "execution_count": 19,
   "id": "5e281826-53d7-4f93-b2be-bd715a0a164e",
   "metadata": {},
   "outputs": [
    {
     "data": {
      "image/png": "[encoded data removed]",
      "text/plain": [
       "<Figure size 1200x500 with 2 Axes>"
      ]
     },
     "metadata": {},
     "output_type": "display_data"
    }
   ],
   "source": [
    "# Q 8  Generate a dataset and demonstrate positive and negative skewness\n",
    "import numpy as np\n",
    "pos_skew = np.random.exponential(scale=2, size=1000)\n",
    "\n",
    "# Negative skew (negate exponential)\n",
    "neg_skew = -np.random.exponential(scale=2, size=1000)\n",
    "\n",
    "# Plot\n",
    "fig, axs = plt.subplots(1, 2, figsize=(12, 5))\n",
    "axs[0].hist(pos_skew, bins=30, color='blue')\n",
    "axs[0].set_title(\"Positive Skew\")\n",
    "axs[1].hist(neg_skew, bins=30, color='red')\n",
    "axs[1].set_title(\"Negative Skew\")\n",
    "plt.show()\n"
   ]
  },
  {
   "cell_type": "code",
   "execution_count": 20,
   "id": "9c05db85-9892-449c-81ab-56e5c313e482",
   "metadata": {},
   "outputs": [
    {
     "name": "stdout",
     "output_type": "stream",
     "text": [
      "Covariance: 3.6666666666666665\n"
     ]
    }
   ],
   "source": [
    "# Q  9. Write a Python script to calculate covariance between two datasets\n",
    "x = [2, 4, 6, 8]\n",
    "y = [1, 3, 2, 5]\n",
    "cov_matrix = np.cov(x, y)\n",
    "print(\"Covariance:\", cov_matrix[0][1])\n"
   ]
  },
  {
   "cell_type": "code",
   "execution_count": 22,
   "id": "44fbd2ed-2cd5-4649-a085-9060e0969e69",
   "metadata": {},
   "outputs": [
    {
     "name": "stdout",
     "output_type": "stream",
     "text": [
      "Correlation Coefficient: 0.8315218406202999\n"
     ]
    }
   ],
   "source": [
    "# Q 10. Write a Python script to calculate the correlation coefficient between two datasets\n",
    "correlation = np.corrcoef(x, y)\n",
    "print(\"Correlation Coefficient:\", correlation[0][1])\n"
   ]
  },
  {
   "cell_type": "code",
   "execution_count": 23,
   "id": "8feadf4e-af87-4d1d-b668-a6742ed0be68",
   "metadata": {},
   "outputs": [
    {
     "data": {
      "image/png": "[encoded data removed]",
      "text/plain": [
       "<Figure size 640x480 with 1 Axes>"
      ]
     },
     "metadata": {},
     "output_type": "display_data"
    }
   ],
   "source": [
    "# Q 11. Create a scatter plot to visualize the relationship between two variables\n",
    "plt.scatter(x, y, color='green')\n",
    "plt.title(\"Scatter Plot\")\n",
    "plt.xlabel(\"X Variable\")\n",
    "plt.ylabel(\"Y Variable\")\n",
    "plt.show()\n"
   ]
  },
  {
   "cell_type": "code",
   "execution_count": 24,
   "id": "9b90c09f-8b82-4302-b013-5fc11dd2fb59",
   "metadata": {},
   "outputs": [
    {
     "name": "stdout",
     "output_type": "stream",
     "text": [
      "Simple Random Sampling:\n",
      "   Name Group\n",
      "2    C    G1\n",
      "4    E    G1\n",
      "5    F    G2\n",
      "Systematic Sampling:\n",
      "   Name Group\n",
      "0    A    G1\n",
      "2    C    G1\n",
      "4    E    G1\n"
     ]
    }
   ],
   "source": [
    "# Q 12. Implement and compare simple random sampling and systematic sampling\n",
    "# Simple random\n",
    "simple_sample = df.sample(n=3)\n",
    "\n",
    "# Systematic sampling (every k-th element)\n",
    "k = 2\n",
    "systematic_sample = df.iloc[::k]\n",
    "\n",
    "print(\"Simple Random Sampling:\\n\", simple_sample)\n",
    "print(\"Systematic Sampling:\\n\", systematic_sample)\n"
   ]
  },
  {
   "cell_type": "code",
   "execution_count": 25,
   "id": "ac317b48-91a4-41dc-920b-ede0824fb531",
   "metadata": {},
   "outputs": [
    {
     "name": "stdout",
     "output_type": "stream",
     "text": [
      "Grouped Mean: 17.8\n"
     ]
    }
   ],
   "source": [
    "# Q  13. Calculate the mean, median, and mode of grouped data\n",
    "# Midpoints and frequencies\n",
    "classes = [(0,10), (10,20), (20,30)]\n",
    "frequencies = [5, 8, 12]\n",
    "midpoints = [(a + b) / 2 for a, b in classes]\n",
    "\n",
    "mean_grouped = sum([f * m for f, m in zip(frequencies, midpoints)]) / sum(frequencies)\n",
    "print(\"Grouped Mean:\", mean_grouped)\n"
   ]
  },
  {
   "cell_type": "code",
   "execution_count": 27,
   "id": "14656ba2-0831-4022-be54-0065d6422d7e",
   "metadata": {},
   "outputs": [
    {
     "name": "stdout",
     "output_type": "stream",
     "text": [
      "Mean: 49.35420867461149\n",
      "Median: 49.19205824656602\n",
      "Mode (approx): 54.78630272118476\n",
      "Standard Deviation: 10.226727126665136\n",
      "Variance: 104.58594772326855\n"
     ]
    }
   ],
   "source": [
    "#Q  14. Simulate data using Python and calculate its central tendency and dispersion\n",
    "sim_data = np.random.normal(loc=50, scale=10, size=1000)\n",
    "print(\"Mean:\", np.mean(sim_data))\n",
    "print(\"Median:\", np.median(sim_data))\n",
    "print(\"Mode (approx):\", stats.mode(sim_data))\n",
    "print(\"Standard Deviation:\", np.std(sim_data))\n",
    "print(\"Variance:\", np.var(sim_data))\n",
    "\n"
   ]
  },
  {
   "cell_type": "code",
   "execution_count": null,
   "id": "5f12cfed-e017-4304-bb3b-888ae032d397",
   "metadata": {},
   "outputs": [],
   "source": []
  }
 ],
 "metadata": {
  "kernelspec": {
   "display_name": "Python 3 (ipykernel)",
   "language": "python",
   "name": "python3"
  },
  "language_info": {
   "codemirror_mode": {
    "name": "ipython",
    "version": 3
   },
   "file_extension": ".py",
   "mimetype": "text/x-python",
   "name": "python",
   "nbconvert_exporter": "python",
   "pygments_lexer": "ipython3",
   "version": "3.12.7"
  },
  "panel-cell-order": [
   "d118492d-680d-4c97-adec-49454aa09a9f"
  ]
 },
 "nbformat": 4,
 "nbformat_minor": 5
}
