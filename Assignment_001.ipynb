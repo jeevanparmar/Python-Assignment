{
 "cells": [
  {
   "cell_type": "markdown",
   "metadata": {},
   "source": [
    "\n",
    "\n",
    "\n",
    "\n",
    "\n",
    "\n",
    "\n",
    "Assignment Module-04 (Data Types and Structures Questions)"
   ]
  },
  {
   "cell_type": "markdown",
   "metadata": {},
   "source": [
    "1. What are data structures, and why are they important?\n",
    "\n",
    "     - Data structures are ways to store and organize data efficiently. They help optimize performance, manage large datasets, and implement algorithms effectively.\n",
    "\n",
    "2. Explain the difference between mutable and immutable data types.\n",
    "\n",
    "    - Mutable data types can be modified after creation, while immutable data types cannot be changed once assigned.\n",
    "\n",
    "3. What are the main differences between lists and tuples in Python?\n",
    "\n",
    "    - Lists are mutable, while tuples are immutable. Lists use more memory and are slower but flexible, whereas tuples are memory-efficient and faster.\n",
    "\n",
    "4. Describe how dictionaries store data.\n",
    "\n",
    "    - Dictionaries store data in key-value pairs using a hash table, allowing efficient lookups.\n",
    "\n",
    "5. Why might you use a set instead of a list in Python?\n",
    "\n",
    "    - Sets automatically remove duplicate values and offer faster membership tests.\n",
    "\n",
    "6. What is a string in Python, and how is it different from a list?\n",
    "\n",
    "    - A string is an immutable sequence of characters, whereas a list is mutable and can store multiple data types.\n",
    "\n",
    "7. How do tuples ensure data integrity in Python?\n",
    "\n",
    "    - Tuples are immutable, preventing accidental modifications and ensuring data consistency.\n",
    "\n",
    "8. What is a hash table, and how does it relate to dictionaries in Python?\n",
    "\n",
    "    - A hash table is a data structure that maps keys to values using a hashing function. Python dictionaries use hash tables for fast key-value lookups.\n",
    "\n",
    "9. Can lists contain different data types in Python?\n",
    "\n",
    "    - Yes, lists can store multiple data types.\n",
    "\n",
    "10. Explain why strings are immutable in Python.\n",
    "\n",
    "    - Strings are immutable to improve security, performance, and efficiency in operations like hashing.\n",
    "\n",
    "11. What advantages do dictionaries offer over lists for certain tasks?\n",
    "\n",
    "    - Dictionaries provide faster lookups, key-value storage, and efficient data retrieval compared to lists.\n",
    "\n",
    "12. Describe a scenario where using a tuple would be preferable over a list.\n",
    "\n",
    "    - Tuples are preferred when data should remain unchanged, such as for fixed records or keys in dictionaries.\n",
    "\n",
    "13. How do sets handle duplicate values in Python?\n",
    "\n",
    "    - Sets automatically remove duplicate values when elements are added.\n",
    "\n",
    "14. How does the \"in\" keyword work differently for lists and dictionaries?\n",
    "\n",
    "    - In lists, it checks if an element exists, while in dictionaries, it checks for the presence of a key.\n",
    "\n",
    "15. Can you modify the elements of a tuple? Explain why or why not.\n",
    "\n",
    "    - No, tuples are immutable, meaning their elements cannot be modified after creation.\n",
    "\n",
    "16. What is a nested dictionary, and give an example of its use case?\n",
    "\n",
    "    - A nested dictionary is a dictionary containing another dictionary as a value, often used for hierarchical data storage.\n",
    "\n",
    "17. Describe the time complexity of accessing elements in a dictionary.\n",
    "\n",
    "    - Accessing elements in a dictionary has an average time complexity of O(1).\n",
    "\n",
    "18. In what situations are lists preferred over dictionaries?\n",
    "\n",
    "    - Lists are preferred when maintaining order, sequential access, or indexed-based retrieval is needed.\n",
    "\n",
    "19. Why are dictionaries considered unordered, and how does that affect data retrieval?\n",
    "\n",
    "    - Dictionaries (before Python 3.7) were unordered, meaning insertion order was not maintained. In Python 3.7+, insertion order is preserved, but retrieval still depends on key hashing.\n",
    "\n",
    "20. Explain the difference between a list and a dictionary in terms of data retrieval.\n",
    "\n",
    "    - Lists require a linear search unless indexed, whereas dictionaries allow faster retrieval using keys."
   ]
  },
  {
   "cell_type": "code",
   "execution_count": 1,
   "metadata": {},
   "outputs": [
    {
     "name": "stdout",
     "output_type": "stream",
     "text": [
      "Jeevan Parmar\n"
     ]
    }
   ],
   "source": [
    "# Q.1  Write a code to create a string with your name and print it.\n",
    "name=input(\"Enter your name: \")\n",
    "print(name)"
   ]
  },
  {
   "cell_type": "code",
   "execution_count": 2,
   "metadata": {},
   "outputs": [
    {
     "name": "stdout",
     "output_type": "stream",
     "text": [
      "11\n"
     ]
    }
   ],
   "source": [
    "# Q.2  Write a code to find the length of the string \"Hello World\".\n",
    "str=\"Hello World\"\n",
    "print(len(str))"
   ]
  },
  {
   "cell_type": "code",
   "execution_count": 3,
   "metadata": {},
   "outputs": [
    {
     "name": "stdout",
     "output_type": "stream",
     "text": [
      "Pyt\n"
     ]
    }
   ],
   "source": [
    "# Q.3 Write a code to slice the first 3 characters from the string \"Python Programming\".\n",
    "str=\"Python Programming\"\n",
    "Sstr=str[:3]\n",
    "print(Sstr)"
   ]
  },
  {
   "cell_type": "code",
   "execution_count": 4,
   "metadata": {},
   "outputs": [
    {
     "name": "stdout",
     "output_type": "stream",
     "text": [
      "HELLO\n"
     ]
    }
   ],
   "source": [
    "# Q.4Write a code to convert the string \"hello\" to uppercase.\n",
    "str=\"hello\"\n",
    "newStr=str.upper()\n",
    "print(newStr)"
   ]
  },
  {
   "cell_type": "code",
   "execution_count": 5,
   "metadata": {},
   "outputs": [
    {
     "name": "stdout",
     "output_type": "stream",
     "text": [
      "I like orange\n"
     ]
    }
   ],
   "source": [
    "# Q.5 Write a code to replace the word \"apple\" with \"orange\" in the string \"I like apple\".\n",
    "str=\"I like apple\"\n",
    "newStr=str.replace(\"apple\", \"orange\")\n",
    "print(newStr)"
   ]
  },
  {
   "cell_type": "code",
   "execution_count": 6,
   "metadata": {},
   "outputs": [
    {
     "name": "stdout",
     "output_type": "stream",
     "text": [
      "[1, 2, 3, 4, 5]\n"
     ]
    }
   ],
   "source": [
    "# Q.6  Write a code to create a list with numbers 1 to 5 and print it\n",
    "l=[]\n",
    "for i in range(1,6):\n",
    "    l.append(i)\n",
    "    \n",
    "print(l)"
   ]
  },
  {
   "cell_type": "code",
   "execution_count": 7,
   "metadata": {},
   "outputs": [
    {
     "data": {
      "text/plain": [
       "[1, 2, 3, 4, 10]"
      ]
     },
     "execution_count": 7,
     "metadata": {},
     "output_type": "execute_result"
    }
   ],
   "source": [
    "# Q.7  Write a code to append the number 10 to the list [1, 2, 3, 4].\n",
    "l=[1,2,3,4]\n",
    "l.append(10)\n",
    "l"
   ]
  },
  {
   "cell_type": "code",
   "execution_count": 8,
   "metadata": {},
   "outputs": [
    {
     "data": {
      "text/plain": [
       "[1, 2, 4, 5]"
      ]
     },
     "execution_count": 8,
     "metadata": {},
     "output_type": "execute_result"
    }
   ],
   "source": [
    "# Q.8 Write a code to remove the number 3 from the list [1, 2, 3, 4, 5]\n",
    "l=[1, 2, 3, 4, 5]\n",
    "l.remove(3)\n",
    "l"
   ]
  },
  {
   "cell_type": "code",
   "execution_count": 9,
   "metadata": {},
   "outputs": [
    {
     "data": {
      "text/plain": [
       "'b'"
      ]
     },
     "execution_count": 9,
     "metadata": {},
     "output_type": "execute_result"
    }
   ],
   "source": [
    "# Q.9Write a code to access the second element in the list ['a', 'b', 'c', 'd']\n",
    "l=['a', 'b', 'c', 'd']\n",
    "l[1]"
   ]
  },
  {
   "cell_type": "code",
   "execution_count": 10,
   "metadata": {},
   "outputs": [
    {
     "data": {
      "text/plain": [
       "[50, 40, 30, 20, 10]"
      ]
     },
     "execution_count": 10,
     "metadata": {},
     "output_type": "execute_result"
    }
   ],
   "source": [
    "# Q.10  Write a code to reverse the list [10, 20, 30, 40, 50].\n",
    "l= [10, 20, 30, 40, 50]\n",
    "l.reverse()\n",
    "l"
   ]
  },
  {
   "cell_type": "code",
   "execution_count": 11,
   "metadata": {},
   "outputs": [
    {
     "name": "stdout",
     "output_type": "stream",
     "text": [
      "100\n",
      "200\n",
      "300\n"
     ]
    }
   ],
   "source": [
    "# Q.11 Write a code to create a tuple with the elements 100, 200, 300 and print it.\n",
    "t=(100,200,300)\n",
    "for i in range(3):\n",
    "    print(t[i])"
   ]
  },
  {
   "cell_type": "code",
   "execution_count": 12,
   "metadata": {},
   "outputs": [
    {
     "name": "stdout",
     "output_type": "stream",
     "text": [
      "('green', 'blue', 'yellow')\n"
     ]
    }
   ],
   "source": [
    "# Q.12 Write a code to access the second-to-last element of the tuple ('red', 'green', 'blue', 'yellow').\n",
    "t= ('red', 'green', 'blue', 'yellow')\n",
    "print(t[1:len(t)])"
   ]
  },
  {
   "cell_type": "code",
   "execution_count": 13,
   "metadata": {},
   "outputs": [
    {
     "name": "stdout",
     "output_type": "stream",
     "text": [
      "5\n"
     ]
    }
   ],
   "source": [
    "# Q.13  Write a code to find the minimum number in the tuple (10, 20, 5, 15).\n",
    "t=(10, 20, 5, 15)\n",
    "print(min(t))"
   ]
  },
  {
   "cell_type": "code",
   "execution_count": 14,
   "metadata": {},
   "outputs": [
    {
     "name": "stdout",
     "output_type": "stream",
     "text": [
      "1\n"
     ]
    }
   ],
   "source": [
    "# Q.14 Write a code to find the index of the element \"cat\" in the tuple ('dog', 'cat', 'rabbit').\n",
    "t=('dog', 'cat', 'rabbit')\n",
    "print(t.index('cat'))"
   ]
  },
  {
   "cell_type": "code",
   "execution_count": 15,
   "metadata": {},
   "outputs": [
    {
     "name": "stdout",
     "output_type": "stream",
     "text": [
      "Kiwi is not in the tuple.\n"
     ]
    }
   ],
   "source": [
    "# Q.15 Write a code to create a tuple containing three different fruits and check if \"kiwi\" is in it.\n",
    "fruits = (\"apple\", \"banana\", \"cherry\")\n",
    "\n",
    "if \"kiwi\" in fruits:\n",
    "    print(\"Kiwi is in the tuple.\")\n",
    "else:\n",
    "    print(\"Kiwi is not in the tuple.\")"
   ]
  },
  {
   "cell_type": "code",
   "execution_count": 16,
   "metadata": {},
   "outputs": [
    {
     "name": "stdout",
     "output_type": "stream",
     "text": [
      "c\n",
      "a\n",
      "b\n"
     ]
    }
   ],
   "source": [
    "# Q.16 Write a code to create a set with the elements 'a', 'b', 'c' and print it.\n",
    "s={'a','b','c'}\n",
    "for item in s:\n",
    "    print(item)"
   ]
  },
  {
   "cell_type": "code",
   "execution_count": 17,
   "metadata": {},
   "outputs": [
    {
     "data": {
      "text/plain": [
       "set()"
      ]
     },
     "execution_count": 17,
     "metadata": {},
     "output_type": "execute_result"
    }
   ],
   "source": [
    "# Q.17  Write a code to clear all elements from the set {1, 2, 3, 4, 5}.\n",
    "s= {1, 2, 3, 4, 5}\n",
    "s.clear()\n",
    "s\n"
   ]
  },
  {
   "cell_type": "code",
   "execution_count": 18,
   "metadata": {},
   "outputs": [
    {
     "data": {
      "text/plain": [
       "{1, 2, 3}"
      ]
     },
     "execution_count": 18,
     "metadata": {},
     "output_type": "execute_result"
    }
   ],
   "source": [
    "# Q.18 Write a code to remove the element 4 from the set {1, 2, 3, 4}.\n",
    "s={1, 2, 3, 4}\n",
    "s.remove(4)\n",
    "s"
   ]
  },
  {
   "cell_type": "code",
   "execution_count": 19,
   "metadata": {},
   "outputs": [
    {
     "data": {
      "text/plain": [
       "{1, 2, 3, 4, 5}"
      ]
     },
     "execution_count": 19,
     "metadata": {},
     "output_type": "execute_result"
    }
   ],
   "source": [
    "# Q.19 Write a code to find the union of two sets {1, 2, 3} and {3, 4, 5}.\n",
    "s1={1, 2, 3} \n",
    "s2={3, 4, 5}\n",
    "\n",
    "s1.union(s2)"
   ]
  },
  {
   "cell_type": "code",
   "execution_count": 20,
   "metadata": {},
   "outputs": [
    {
     "data": {
      "text/plain": [
       "{2, 3}"
      ]
     },
     "execution_count": 20,
     "metadata": {},
     "output_type": "execute_result"
    }
   ],
   "source": [
    "# Q.20 Write a code to find the intersection of two sets {1, 2, 3} and {2, 3, 4}.\n",
    "s1={1, 2, 3} \n",
    "s2={2,3, 4}\n",
    "\n",
    "s1.intersection(s2)"
   ]
  },
  {
   "cell_type": "code",
   "execution_count": 21,
   "metadata": {},
   "outputs": [
    {
     "name": "stdout",
     "output_type": "stream",
     "text": [
      "{'name': '', 'age': '', 'city': ''}\n"
     ]
    }
   ],
   "source": [
    "# Q.21  Write a code to create a dictionary with the keys \"name\", \"age\", and \"city\", and print it.\n",
    "dict={\n",
    "    \"name\":\"\",\n",
    "    \"age\":\"\",\n",
    "    \"city\":\"\"\n",
    "}\n",
    "print(dict)"
   ]
  },
  {
   "cell_type": "code",
   "execution_count": 22,
   "metadata": {},
   "outputs": [
    {
     "data": {
      "text/plain": [
       "{'name': 'John', 'age': 25, 'country': 'USA'}"
      ]
     },
     "execution_count": 22,
     "metadata": {},
     "output_type": "execute_result"
    }
   ],
   "source": [
    "# Q.22 Write a code to add a new key-value pair \"country\": \"USA\" to the dictionary {'name': 'John', 'age': 25}.\n",
    "dict={'name': 'John', 'age': 25}\n",
    "dict['country']=\"USA\"\n",
    "dict"
   ]
  },
  {
   "cell_type": "code",
   "execution_count": 23,
   "metadata": {},
   "outputs": [
    {
     "data": {
      "text/plain": [
       "'Alice'"
      ]
     },
     "execution_count": 23,
     "metadata": {},
     "output_type": "execute_result"
    }
   ],
   "source": [
    "# Q.23 Write a code to access the value associated with the key \"name\" in the dictionary {'name': 'Alice', 'age': 30}.\n",
    "dict={'name': 'Alice', 'age': 30}\n",
    "dict['name']"
   ]
  },
  {
   "cell_type": "code",
   "execution_count": 24,
   "metadata": {},
   "outputs": [
    {
     "data": {
      "text/plain": [
       "{'name': 'Bob', 'city': 'New York'}"
      ]
     },
     "execution_count": 24,
     "metadata": {},
     "output_type": "execute_result"
    }
   ],
   "source": [
    "# Q.24  Write a code to remove the key \"age\" from the dictionary {'name': 'Bob', 'age': 22, 'city': 'New York'}.\n",
    "dict= {'name': 'Bob', 'age': 22, 'city': 'New York'}\n",
    "dict.pop('age')\n",
    "dict"
   ]
  },
  {
   "cell_type": "code",
   "execution_count": 25,
   "metadata": {},
   "outputs": [
    {
     "name": "stdout",
     "output_type": "stream",
     "text": [
      "key 'city' exists in dictionary\n"
     ]
    }
   ],
   "source": [
    "# Q.25 Write a code to check if the key \"city\" exists in the dictionary {'name': 'Alice', 'city': 'Paris'}.\n",
    "dict= {'name': 'Alice', 'city': 'Paris'}\n",
    "\n",
    "if 'city' in dict:\n",
    "    print(\"key 'city' exists in dictionary\")\n",
    "else:\n",
    "    print(\"key 'city' does not exists in dictionary\")\n",
    "\n",
    "        \n",
    "\n"
   ]
  },
  {
   "cell_type": "code",
   "execution_count": 26,
   "metadata": {},
   "outputs": [
    {
     "name": "stdout",
     "output_type": "stream",
     "text": [
      "List: [1, 2, 3, 4, 5]\n",
      "Tuple: (10, 20, 30, 40, 50)\n",
      "Dictionary: {'name': 'Alice', 'age': 25, 'city': 'Paris'}\n"
     ]
    }
   ],
   "source": [
    "# Q.26 Write a code to create a list, a tuple, and a dictionary, and print them all.\n",
    "list = [1, 2, 3, 4, 5]\n",
    "tuple = (10, 20, 30, 40, 50)\n",
    "dict = {'name': 'Alice', 'age': 25, 'city': 'Paris'}\n",
    "\n",
    "print(\"List:\", list)\n",
    "print(\"Tuple:\", tuple)\n",
    "print(\"Dictionary:\", dict)\n"
   ]
  },
  {
   "cell_type": "code",
   "execution_count": 27,
   "metadata": {},
   "outputs": [
    {
     "name": "stdout",
     "output_type": "stream",
     "text": [
      "[6, 7, 26, 45, 87]\n"
     ]
    }
   ],
   "source": [
    "# Q.27 Write a code to create a list of 5 random numbers between 1 and 100, sort it in ascending order, and print the  result.(replaced).\n",
    "\n",
    "import random\n",
    "l=[]\n",
    "for i in range(5):\n",
    "    l.append(random.randint(1, 100))\n",
    "\n",
    "l.sort()\n",
    "print(l)"
   ]
  },
  {
   "cell_type": "code",
   "execution_count": 28,
   "metadata": {},
   "outputs": [
    {
     "data": {
      "text/plain": [
       "'def'"
      ]
     },
     "execution_count": 28,
     "metadata": {},
     "output_type": "execute_result"
    }
   ],
   "source": [
    "# Q.28 Write a code to create a list with strings and print the element at the third index.\n",
    "s=['abc','bcd','cde','def','efg']\n",
    "s[3]\n"
   ]
  },
  {
   "cell_type": "code",
   "execution_count": 29,
   "metadata": {},
   "outputs": [
    {
     "name": "stdout",
     "output_type": "stream",
     "text": [
      "{'name': 'Alice', 'age': 25, 'country': 'India', 'city': 'Paris'}\n"
     ]
    }
   ],
   "source": [
    "# Q.29 Write a code to combine two dictionaries into one and print the result.\n",
    "dict1 = {'name': 'Alice', 'age': 25}\n",
    "dict2 = {'country': 'India','city': 'Paris'}\n",
    "\n",
    "dict1.update(dict2)\n",
    "print(dict1)"
   ]
  },
  {
   "cell_type": "code",
   "execution_count": 30,
   "metadata": {},
   "outputs": [
    {
     "name": "stdout",
     "output_type": "stream",
     "text": [
      "{'def', 'abc', 'cde', 'bcd', 'efg'}\n"
     ]
    }
   ],
   "source": [
    "# Q.30  Write a code to convert a list of strings into a set\n",
    "s=['abc','bcd','cde','def','efg']\n",
    "st=set()\n",
    "for item in s:\n",
    "    st.add(item)\n",
    "\n",
    "print(st)"
   ]
  },
  {
   "cell_type": "code",
   "execution_count": null,
   "metadata": {},
   "outputs": [],
   "source": []
  }
 ],
 "metadata": {
  "kernelspec": {
   "display_name": "base",
   "language": "python",
   "name": "python3"
  },
  "language_info": {
   "codemirror_mode": {
    "name": "ipython",
    "version": 3
   },
   "file_extension": ".py",
   "mimetype": "text/x-python",
   "name": "python",
   "nbconvert_exporter": "python",
   "pygments_lexer": "ipython3",
   "version": "3.11.5"
  }
 },
 "nbformat": 4,
 "nbformat_minor": 4
}
