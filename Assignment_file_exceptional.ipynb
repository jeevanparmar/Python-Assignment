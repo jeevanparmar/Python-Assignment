{
 "cells": [
  {
   "cell_type": "markdown",
   "id": "229afb8c",
   "metadata": {},
   "source": [
    "1. What is the difference between interpreted and compiled languages?**  \n",
    "- Interpreted languages execute code line by line, allowing easier debugging and cross-platform compatibility. Compiled languages convert the entire code into machine code before execution, resulting in faster performance. Python is an interpreted language.\n",
    "\n",
    "2. What is exception handling in Python?**  \n",
    "- Exception handling in Python is used to handle errors during program execution without crashing the program. It uses `try`, `except`, `else`, and `finally` blocks to catch and manage exceptions gracefully.\n",
    "\n",
    "\n",
    "3. What is the purpose of the finally block in exception handling?**  \n",
    "- The `finally` block is always executed, regardless of whether an exception occurred or not. It is typically used to release external resources like files or network connections.\n",
    "\n",
    "4. What is logging in Python?**  \n",
    "- Logging is a way to record events that happen while a program runs. It helps with debugging, monitoring, and tracking the behavior of applications by providing different log levels such as DEBUG, INFO, WARNING, ERROR, and CRITICAL.\n",
    "\n",
    "5. What is the significance of the `__del__` method in Python?**  \n",
    "- The `__del__` method is a destructor in Python, automatically called when an object is about to be deleted. It is used to clean up resources, though using context managers (`with`) is generally preferred.\n",
    "\n",
    "6. What is the difference between `import` and `from ... import` in Python?**  \n",
    "-`import` imports the entire module and requires using the module name to access functions. `from ... import` imports specific items from a module, allowing direct usage without the module prefix.\n",
    "\n",
    "7. How can you handle multiple exceptions in Python?**  \n",
    "- You can handle multiple exceptions by writing multiple `except` blocks or by catching a tuple of exceptions in a single block. This allows different actions for different types of errors.\n",
    "\n",
    "8. What is the purpose of the `with` statement when handling files in Python?**  \n",
    "- The `with` statement ensures that files are properly opened and closed, even if errors occur. It simplifies file management and automatically releases file resources after use.\n",
    "\n",
    "9. What is the difference between multithreading and multiprocessing?**  \n",
    "- Multithreading runs multiple threads within the same process, sharing memory, and is useful for I/O-bound tasks. Multiprocessing creates separate processes, with each having its own memory space, suitable for CPU-bound tasks.\n",
    "\n",
    "10. What are the advantages of using logging in a program?**  \n",
    "-Logging helps monitor the flow and behavior of an application without using print statements. It allows debugging, error tracking, and saving logs for future analysis. Logs can also be categorized by severity.\n",
    "\n",
    "11. What is memory management in Python?**  \n",
    "- Memory management refers to how Python handles memory allocation and deallocation. Python uses automatic memory management via reference counting and a built-in garbage collector to manage unused objects.\n",
    "\n",
    "12. What are the basic steps involved in exception handling in Python?**  \n",
    "-1. Use a `try` block to write code that might raise an error.  \n",
    "2. Catch exceptions using `except`.  \n",
    "3. Use `else` for code to run if no error occurs.  \n",
    "4. Use `finally` to run cleanup code that executes regardless of exceptions.\n",
    "\n",
    "13. Why is memory management important in Python?**  \n",
    "- Efficient memory management prevents memory leaks and ensures the application performs well. It helps avoid crashes, reduces resource usage, and is crucial in long-running or resource-intensive programs.\n",
    "\n",
    "14. What is the role of `try` and `except` in exception handling?**  \n",
    "- The `try` block is used to wrap risky code that might throw an error. The `except` block handles specific or general exceptions, allowing the program to continue running smoothly.\n",
    "\n",
    "15. How does Python's garbage collection system work?**  \n",
    "- Python uses reference counting to track object usage. When the reference count of an object reaches zero, it is deleted. Python also uses a cyclic garbage collector to remove objects involved in circular references.\n",
    "\n",
    "16. What is the purpose of the `else` block in exception handling?**  \n",
    "- The `else` block is executed only if no exception occurs in the `try` block. It is useful for writing code that should only run when no errors are raised.\n",
    "\n",
    "17. What are the common logging levels in Python?**  \n",
    " - **DEBUG**: Detailed information for diagnosing issues.  \n",
    "- **INFO**: General messages to confirm things are working.  \n",
    "- **WARNING**: An indication something unexpected happened.  \n",
    "- **ERROR**: A serious problem that affects part of the program.  \n",
    "- **CRITICAL**: A severe error causing program termination.\n",
    "\n",
    "18. What is the difference between `os.fork()` and `multiprocessing` in Python?**  \n",
    "- `os.fork()` is a low-level method to create a child process (Unix only), duplicating the current process. `multiprocessing` is a cross-platform module offering high-level API to run separate processes with better abstraction and control.\n",
    "\n",
    "19. What is the importance of closing a file in Python?**  \n",
    "- Closing a file ensures that data is properly written to disk and system resources are released. It helps avoid data corruption, memory leaks, and file lock issues.\n",
    "\n",
    "20. What is the difference between `file.read()` and `file.readline()` in Python?**  \n",
    " - `file.read()` reads the whole file content at once.  \n",
    "- `file.readline()` reads one line at a time, making it better for reading large files line-by-line.\n",
    "\n",
    "21. What is the logging module in Python used for?**  \n",
    "- The `logging` module is used to record messages during program execution. It supports various log levels and outputs messages to different destinations like console, file, or over a network.\n",
    "\n",
    "22. What is the `os` module in Python used for in file handling?**  \n",
    "- The `os` module allows interaction with the operating system. In file handling, it helps with tasks like checking file existence, creating/removing directories, and navigating file paths.\n",
    "\n",
    "23. What are the challenges associated with memory management in Python?**  \n",
    "- Challenges include detecting and cleaning up circular references, optimizing memory for performance, and managing memory in multi-threaded or large-scale applications. Mismanagement can lead to performance issues or memory leaks.\n",
    "\n",
    "24. How do you raise an exception manually in Python?**  \n",
    "- Use the `raise` keyword followed by an exception type and an optional message. For example: `raise ValueError(\"Invalid age\")`. This helps in enforcing error handling in custom scenarios.\n",
    "\n",
    "25. Why is it important to use multithreading in certain applications?**  \n",
    "- Multithreading improves efficiency in I/O-bound tasks by allowing concurrent operations like reading files, handling user input, or making network requests, leading to faster and more responsive applications.\n"
   ]
  },
  {
   "cell_type": "code",
   "execution_count": 7,
   "id": "317b2cfc",
   "metadata": {},
   "outputs": [],
   "source": [
    "# 1. How can you open a file for writing in Python and write a string to it?\n",
    "with open(\"example.txt\", \"w\") as file:\n",
    "    file.write(\"Hello, this is a sample text.\")\n",
    "\n"
   ]
  },
  {
   "cell_type": "code",
   "execution_count": 8,
   "id": "b1bab08f",
   "metadata": {},
   "outputs": [
    {
     "name": "stdout",
     "output_type": "stream",
     "text": [
      "Hello, this is a sample text.\n"
     ]
    }
   ],
   "source": [
    "# 2. Write a Python program to read the contents of a file and print each line\n",
    "with open(\"example.txt\", \"r\") as file:\n",
    "    for line in file:\n",
    "        print(line )  \n"
   ]
  },
  {
   "cell_type": "code",
   "execution_count": 9,
   "metadata": {},
   "outputs": [
    {
     "name": "stdout",
     "output_type": "stream",
     "text": [
      "File not found.\n"
     ]
    }
   ],
   "source": [
    "# 3. How would you handle a case where the file doesn't exist while trying to open it for reading?\n",
    "try:\n",
    "    with open(\"nonexistent.txt\", \"r\") as file:\n",
    "        print(file.read())\n",
    "except FileNotFoundError:\n",
    "    print(\"File not found.\")\n"
   ]
  },
  {
   "cell_type": "code",
   "execution_count": 11,
   "id": "709cbf05",
   "metadata": {},
   "outputs": [],
   "source": [
    "# 4. Write a Python script that reads from one file and writes its content to another file\n",
    "with open(\"source.txt\", \"r\") as source, open(\"destination.txt\", \"w\") as destination:\n",
    "    content = source.read()\n",
    "    destination.write(content)\n"
   ]
  },
  {
   "cell_type": "code",
   "execution_count": 12,
   "id": "c0a24f56",
   "metadata": {},
   "outputs": [
    {
     "name": "stdout",
     "output_type": "stream",
     "text": [
      "Cannot divide by zero.\n"
     ]
    }
   ],
   "source": [
    "# 5. How would you catch and handle division by zero error in Python?\n",
    "try:\n",
    "    result = 10 / 0\n",
    "except ZeroDivisionError:\n",
    "    print(\"Cannot divide by zero.\")\n"
   ]
  },
  {
   "cell_type": "code",
   "execution_count": 13,
   "id": "d22beefe",
   "metadata": {},
   "outputs": [],
   "source": [
    "# 6. Write a Python program that logs an error message to a log file when a division by zero exception occurs\n",
    "import logging\n",
    "logging.basicConfig(filename=\"error.log\", level=logging.ERROR)\n",
    "try:\n",
    "    x = 10 / 0\n",
    "except ZeroDivisionError as e:\n",
    "    logging.error(\"Division by zero occurred: %s\", e)\n"
   ]
  },
  {
   "cell_type": "code",
   "execution_count": 14,
   "id": "e0e24a4a",
   "metadata": {},
   "outputs": [],
   "source": [
    "# 7. How do you log information at different levels (INFO, ERROR, WARNING) in Python using the logging module\n",
    "import logging\n",
    "logging.basicConfig(level=logging.DEBUG)\n",
    "logging.info(\"This is an info message\")\n",
    "logging.warning(\"This is a warning message\")\n",
    "logging.error(\"This is an error message\")\n"
   ]
  },
  {
   "cell_type": "code",
   "execution_count": 15,
   "id": "3086e33a",
   "metadata": {},
   "outputs": [
    {
     "name": "stdout",
     "output_type": "stream",
     "text": [
      "File could not be opened.\n"
     ]
    }
   ],
   "source": [
    "# 8. Write a program to handle a file opening error using exception handling\n",
    "try:\n",
    "    with open(\"nofile.txt\", \"r\") as file:\n",
    "        print(file.read())\n",
    "except FileNotFoundError:\n",
    "    print(\"File could not be opened.\")\n"
   ]
  },
  {
   "cell_type": "code",
   "execution_count": 16,
   "id": "a55ea8c1",
   "metadata": {},
   "outputs": [
    {
     "name": "stdout",
     "output_type": "stream",
     "text": [
      "['Hello, this is a sample text.']\n"
     ]
    }
   ],
   "source": [
    "# 9. How can you read a file line by line and store its content in a list in Python\n",
    "with open(\"example.txt\", \"r\") as file:\n",
    "    lines = file.readlines()\n",
    "print(lines)\n"
   ]
  },
  {
   "cell_type": "code",
   "execution_count": 17,
   "id": "0f9e2761",
   "metadata": {},
   "outputs": [],
   "source": [
    "# 10. How can you append data to an existing file in Python\n",
    "with open(\"example.txt\", \"a\") as file:\n",
    "    file.write(\"\\nThis is appended data.\")\n"
   ]
  },
  {
   "cell_type": "code",
   "execution_count": 19,
   "id": "6edbf41a",
   "metadata": {},
   "outputs": [
    {
     "name": "stdout",
     "output_type": "stream",
     "text": [
      "Key does not exist.\n"
     ]
    }
   ],
   "source": [
    "# 11. Write a Python program that uses a try-except block to handle an\n",
    "#  error when attempting to access a dictionary key that doesn't exist\n",
    "data = {\"name\": \"John\", \"city\": \"New York\"}\n",
    "try:\n",
    "    print(data[\"age\"])\n",
    "except KeyError:\n",
    "    print(\"Key does not exist.\")\n"
   ]
  },
  {
   "cell_type": "code",
   "execution_count": 20,
   "id": "b716e1c1",
   "metadata": {},
   "outputs": [
    {
     "name": "stdout",
     "output_type": "stream",
     "text": [
      "Invalid value.\n"
     ]
    }
   ],
   "source": [
    "# 12. Write a program that demonstrates using multiple except blocks to handle different types of exceptions\n",
    "try:\n",
    "    a = int(\"abc\")\n",
    "    b = 10 / 0\n",
    "except ValueError:\n",
    "    print(\"Invalid value.\")\n",
    "except ZeroDivisionError:\n",
    "    print(\"Division by zero.\")\n"
   ]
  },
  {
   "cell_type": "code",
   "execution_count": 21,
   "id": "09ab875a",
   "metadata": {},
   "outputs": [
    {
     "name": "stdout",
     "output_type": "stream",
     "text": [
      "Hello, this is a sample text.\n",
      "This is appended data.\n"
     ]
    }
   ],
   "source": [
    "# 13. How would you check if a file exists before attempting to read it in Python?\n",
    "import os\n",
    "if os.path.exists(\"example.txt\"):\n",
    "    with open(\"example.txt\", \"r\") as file:\n",
    "        print(file.read())\n",
    "else:\n",
    "    print(\"File not found.\")\n"
   ]
  },
  {
   "cell_type": "code",
   "execution_count": 22,
   "id": "fa947138",
   "metadata": {},
   "outputs": [],
   "source": [
    "# 14. Write a program that uses the logging module to log both informational and error messages\n",
    "import logging\n",
    "logging.basicConfig(filename=\"app.log\", level=logging.DEBUG)\n",
    "logging.info(\"Program started\")\n",
    "try:\n",
    "    x = 10 / 0\n",
    "except ZeroDivisionError:\n",
    "    logging.error(\"Error occurred: Division by zero\")\n"
   ]
  },
  {
   "cell_type": "code",
   "execution_count": 23,
   "id": "82be5764",
   "metadata": {},
   "outputs": [
    {
     "name": "stdout",
     "output_type": "stream",
     "text": [
      "Hello, this is a sample text.\n",
      "This is appended data.\n"
     ]
    }
   ],
   "source": [
    "# 15. Write a Python program that prints the content of a file and handles the case when the file is empty\n",
    "with open(\"example.txt\", \"r\") as file:\n",
    "    content = file.read()\n",
    "    if content:\n",
    "        print(content)\n",
    "    else:\n",
    "        print(\"File is empty.\")\n"
   ]
  },
  {
   "cell_type": "code",
   "execution_count": 26,
   "id": "bd9d21e6",
   "metadata": {},
   "outputs": [
    {
     "name": "stdout",
     "output_type": "stream",
     "text": [
      "ERROR: Could not find file C:\\Users\\jeevan\\AppData\\Local\\Temp\\ipykernel_13908\\2242338737.py\n"
     ]
    },
    {
     "data": {
      "text/plain": [
       "49995000"
      ]
     },
     "execution_count": 26,
     "metadata": {},
     "output_type": "execute_result"
    }
   ],
   "source": [
    "# 16. Demonstrate how to use memory profiling to check the memory usage of a small program\n",
    "from memory_profiler import profile\n",
    "\n",
    "@profile\n",
    "def my_function():\n",
    "    a = [i for i in range(10000)]\n",
    "    return sum(a)\n",
    "\n",
    "my_function()\n"
   ]
  },
  {
   "cell_type": "code",
   "execution_count": 27,
   "id": "4624bbf7",
   "metadata": {},
   "outputs": [],
   "source": [
    "# 17. Write a Python program to create and write a list of numbers to a file, one number per line\n",
    "numbers = [1, 2, 3, 4, 5]\n",
    "with open(\"numbers.txt\", \"w\") as file:\n",
    "    for num in numbers:\n",
    "        file.write(f\"{num}\\n\")\n"
   ]
  },
  {
   "cell_type": "code",
   "execution_count": 28,
   "id": "f01392b9",
   "metadata": {},
   "outputs": [],
   "source": [
    "# 18. How would you implement a basic logging setup that logs to a file with rotation after 1MB\n",
    "import logging\n",
    "from logging.handlers import RotatingFileHandler\n",
    "\n",
    "handler = RotatingFileHandler(\"rotating.log\", maxBytes=1024*1024, backupCount=3)\n",
    "logging.basicConfig(handlers=[handler], level=logging.INFO)\n",
    "logging.info(\"This is a rotating log message.\")\n"
   ]
  },
  {
   "cell_type": "code",
   "execution_count": 29,
   "id": "a1314a4e",
   "metadata": {},
   "outputs": [
    {
     "name": "stdout",
     "output_type": "stream",
     "text": [
      "Key not found.\n"
     ]
    }
   ],
   "source": [
    "# 19. Write a program that handles both IndexError and KeyError using a try-except block\n",
    "data = {\"a\": 1}\n",
    "lst = [10]\n",
    "try:\n",
    "    print(data[\"b\"])\n",
    "    print(lst[2])\n",
    "except KeyError:\n",
    "    print(\"Key not found.\")\n",
    "except IndexError:\n",
    "    print(\"Index out of range.\")\n"
   ]
  },
  {
   "cell_type": "code",
   "execution_count": 30,
   "id": "288eda84",
   "metadata": {},
   "outputs": [
    {
     "name": "stdout",
     "output_type": "stream",
     "text": [
      "Hello, this is a sample text.\n",
      "This is appended data.\n"
     ]
    }
   ],
   "source": [
    "# 20. How would you open a file and read its contents using a context manager in Python\n",
    "with open(\"example.txt\", \"r\") as file:\n",
    "    content = file.read()\n",
    "    print(content)\n"
   ]
  },
  {
   "cell_type": "code",
   "execution_count": 31,
   "id": "50d4f1ae",
   "metadata": {},
   "outputs": [
    {
     "name": "stdout",
     "output_type": "stream",
     "text": [
      "0\n"
     ]
    }
   ],
   "source": [
    "# 21. Write a Python program that reads a file and prints the number of occurrences of a specific word\n",
    "word = \"python\"\n",
    "with open(\"example.txt\", \"r\") as file:\n",
    "    content = file.read()\n",
    "    print(content.lower().count(word))\n"
   ]
  },
  {
   "cell_type": "code",
   "execution_count": 32,
   "id": "c863c1e0",
   "metadata": {},
   "outputs": [
    {
     "name": "stdout",
     "output_type": "stream",
     "text": [
      "Hello, this is a sample text.\n",
      "This is appended data.\n"
     ]
    }
   ],
   "source": [
    "# 22. How can you check if a file is empty before attempting to read its contents\n",
    "import os\n",
    "if os.path.exists(\"example.txt\") and os.stat(\"example.txt\").st_size == 0:\n",
    "    print(\"File is empty.\")\n",
    "else:\n",
    "    with open(\"example.txt\", \"r\") as file:\n",
    "        print(file.read())\n"
   ]
  },
  {
   "cell_type": "code",
   "execution_count": 33,
   "id": "e0f0470e",
   "metadata": {},
   "outputs": [],
   "source": [
    "# 23. Write a Python program that writes to a log file when an error occurs during file handling\n",
    "import logging\n",
    "logging.basicConfig(filename=\"file_error.log\", level=logging.ERROR)\n",
    "try:\n",
    "    with open(\"nofile.txt\", \"r\") as file:\n",
    "        print(file.read())\n",
    "except Exception as e:\n",
    "    logging.error(\"Error reading file: %s\", e)\n"
   ]
  },
  {
   "cell_type": "code",
   "execution_count": null,
   "id": "53f05a5a",
   "metadata": {},
   "outputs": [],
   "source": []
  }
 ],
 "metadata": {
  "kernelspec": {
   "display_name": "base",
   "language": "python",
   "name": "python3"
  },
  "language_info": {
   "codemirror_mode": {
    "name": "ipython",
    "version": 3
   },
   "file_extension": ".py",
   "mimetype": "text/x-python",
   "name": "python",
   "nbconvert_exporter": "python",
   "pygments_lexer": "ipython3",
   "version": "3.11.5"
  }
 },
 "nbformat": 4,
 "nbformat_minor": 5
}
