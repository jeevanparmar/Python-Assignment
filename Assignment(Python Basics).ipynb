{
 "cells": [
  {
   "cell_type": "markdown",
   "id": "014147fd-aba0-4c58-b189-399f2615ed5c",
   "metadata": {},
   "source": [
    "Here are the answers to the Python Basics Questions \n",
    "\n",
    "1. **What is Python, and why is it popular?**  \n",
    "   Python is a high-level, interpreted programming language known for its simplicity, readability, and versatility. It is popular due to its easy syntax, vast libraries, strong community support, and applications in various fields like web development, data science, AI, and automation.  \n",
    "\n",
    "2. **What is an interpreter in Python?**  \n",
    "   An interpreter is a program that executes Python code line by line instead of compiling it all at once. This makes debugging easier and allows for dynamic execution.  \n",
    "\n",
    "3. **What are pre-defined keywords in Python?**  \n",
    "   Pre-defined keywords are reserved words in Python that have a specific function and cannot be used as variable names. Examples include `if`, `else`, `while`, `for`, `def`, `return`, `import`, `True`, and `False`.  \n",
    "\n",
    "4. **Can keywords be used as variable names?**  \n",
    "   No, keywords cannot be used as variable names because they are reserved for specific functions in Python.  \n",
    "\n",
    "5. **What is mutability in Python?**  \n",
    "   Mutability refers to whether an object’s state can be changed after creation. Mutable objects can be modified, while immutable objects cannot.  \n",
    "\n",
    "6. **Why are lists mutable, but tuples are immutable?**  \n",
    "   Lists are mutable, meaning elements can be added, removed, or changed after creation. Tuples are immutable, meaning once created, their elements cannot be modified. This makes tuples more memory efficient and safer for data integrity.  \n",
    "\n",
    "7. **What is the difference between `==` and `is` operators in Python?**  \n",
    "   The `==` operator checks if two variables have the same value, while the `is` operator checks if they refer to the same object in memory.  \n",
    "\n",
    "8. **What are logical operators in Python?**  \n",
    "   Python has three logical operators:  \n",
    "   - `and` (returns True if both conditions are True)  \n",
    "   - `or` (returns True if at least one condition is True)  \n",
    "   - `not` (reverses the Boolean value)  \n",
    "\n",
    "9. **What is type casting in Python?**  \n",
    "   Type casting is converting one data type to another, such as converting a string to an integer or a float to a string.  \n",
    "\n",
    "10. **What is the difference between implicit and explicit type casting?**  \n",
    "   - Implicit type casting is when Python automatically converts smaller data types to larger ones.  \n",
    "   - Explicit type casting requires the programmer to manually convert data types using functions like `int()`, `float()`, and `str()`.  \n",
    "\n",
    "11. **What is the purpose of conditional statements in Python?**  \n",
    "   Conditional statements (`if`, `elif`, `else`) are used for decision-making in programs, allowing the execution of different code blocks based on conditions.  \n",
    "\n",
    "12. **How does the `elif` statement work?**  \n",
    "   The `elif` statement is used when multiple conditions need to be checked. If the previous `if` condition is False, Python checks the `elif` condition before executing the `else` block.  \n",
    "\n",
    "13. **What is the difference between `for` and `while` loops?**  \n",
    "   A `for` loop is used when the number of iterations is known, whereas a `while` loop is used when the number of iterations is unknown and depends on a condition.  \n",
    "\n",
    "14. **Describe a scenario where a `while` loop is more suitable than a `for` loop.**  \n",
    "   A `while` loop is more suitable when the number of iterations is uncertain. For example, when taking user input until they enter a valid value or when waiting for a specific condition to be met.  \n",
    "\n"
   ]
  },
  {
   "cell_type": "markdown",
   "id": "f11b7691-4a3b-41b4-87b5-a11f71bc4796",
   "metadata": {},
   "source": [
    "**Practical Questions**"
   ]
  },
  {
   "cell_type": "code",
   "execution_count": 1,
   "id": "4601a9df-a109-4371-a10a-b3e6ccd4ef5d",
   "metadata": {},
   "outputs": [
    {
     "name": "stdout",
     "output_type": "stream",
     "text": [
      "Hello, World!\n"
     ]
    }
   ],
   "source": [
    "# Q1 Write a Python program to print \"Hello, World!\"\n",
    "print(\"Hello, World!\")"
   ]
  },
  {
   "cell_type": "code",
   "execution_count": 2,
   "id": "c4f6cdea-d0fb-4d1b-9609-75ab938af138",
   "metadata": {},
   "outputs": [
    {
     "name": "stdout",
     "output_type": "stream",
     "text": [
      "name : Jeevan Parmar\n",
      "age : 21\n"
     ]
    }
   ],
   "source": [
    "#Q.02 Write a Python program that displays your name and age\n",
    "print(\"name : Jeevan Parmar\")\n",
    "print(\"age : 21\")"
   ]
  },
  {
   "cell_type": "code",
   "execution_count": 3,
   "id": "a05420a5-b016-4f43-8b15-02ae003e6057",
   "metadata": {
    "scrolled": true
   },
   "outputs": [
    {
     "name": "stdout",
     "output_type": "stream",
     "text": [
      "['False', 'None', 'True', 'and', 'as', 'assert', 'async', 'await', 'break', 'class', 'continue', 'def', 'del', 'elif', 'else', 'except', 'finally', 'for', 'from', 'global', 'if', 'import', 'in', 'is', 'lambda', 'nonlocal', 'not', 'or', 'pass', 'raise', 'return', 'try', 'while', 'with', 'yield']\n"
     ]
    }
   ],
   "source": [
    "#Q3 Write code to print all the pre-defined keywords in Python using the keyword library\n",
    "import keyword\n",
    "print(keyword.kwlist)\n"
   ]
  },
  {
   "cell_type": "code",
   "execution_count": 4,
   "id": "dfcbc9f9-ed8d-4354-aaa7-096f184b51b4",
   "metadata": {},
   "outputs": [
    {
     "name": "stdout",
     "output_type": "stream",
     "text": [
      "'if' is a Python keyword.\n"
     ]
    }
   ],
   "source": [
    "#Q4 Write a program that checks if a given word is a Python keyword.\n",
    "import keyword\n",
    "\n",
    "def check_keyword(word):\n",
    "    if keyword.iskeyword(word):\n",
    "        print(f\"'{word}' is a Python keyword.\")\n",
    "    else:\n",
    "        print(f\"'{word}' is NOT a Python keyword.\")\n",
    "\n",
    "# Example usage\n",
    "word = input(\"Enter a word to check: \")\n",
    "check_keyword(word)\n"
   ]
  },
  {
   "cell_type": "code",
   "execution_count": 5,
   "id": "64c01189-07fa-4d82-b0c3-9ab6087641da",
   "metadata": {},
   "outputs": [
    {
     "name": "stdout",
     "output_type": "stream",
     "text": [
      "Modified List: [6, 2, 3, 4, 5]\n",
      "Error: 'tuple' object does not support item assignment\n"
     ]
    }
   ],
   "source": [
    "#Q5 Create a list and tuple in Python, and demonstrate how attempting to change an element works differently for each\n",
    "l=[1,2,3,4,5]\n",
    "l[0]=6\n",
    "print(\"Modified List:\", l)\n",
    "\n",
    "tup=(1,2,3,4)\n",
    "try:\n",
    "    tup[1]=5;\n",
    "except TypeError as e:\n",
    "    print(\"Error:\", e)\n"
   ]
  },
  {
   "cell_type": "code",
   "execution_count": 6,
   "id": "8155985b-2d1e-4314-b9b9-e6e3027e3b0e",
   "metadata": {},
   "outputs": [
    {
     "name": "stdout",
     "output_type": "stream",
     "text": [
      "mutable example -\n",
      "before modify : [1, 2, 3, 4, 5]\n",
      "after modify : [1123, 2, 3, 4, 5]\n",
      "\n",
      "========================================\n",
      "\n",
      "mutable example -\n",
      "before modify : 0\n",
      "after modify : 0\n"
     ]
    }
   ],
   "source": [
    "#Q6. Write a function to demonstrate the behavior of mutable and immutable arguments.\n",
    "\n",
    "#mutable\n",
    "def modify(l):\n",
    "    l[0]=1123  \n",
    "\n",
    "l=[1,2,3,4,5]\n",
    "print(\"mutable example -\")\n",
    "print(f\"before modify : {l}\")\n",
    "modify(l)\n",
    "print(f\"after modify : {l}\")\n",
    "\n",
    "#immutable\n",
    "print(\"\\n\" + \"=\"*40)\n",
    "def modifyVal(a):\n",
    "    a=1;\n",
    "print(\"\")\n",
    "print(\"mutable example -\")\n",
    "a=0\n",
    "print(f\"before modify : {a}\")\n",
    "modifyVal(a)\n",
    "print(f\"after modify : {a}\")\n",
    "\n"
   ]
  },
  {
   "cell_type": "code",
   "execution_count": 7,
   "id": "c2c596b7-35b4-4966-b823-59175ede9c0c",
   "metadata": {},
   "outputs": [
    {
     "name": "stdout",
     "output_type": "stream",
     "text": [
      "Addition: 4.0 + 6.0 = 10.0\n",
      "Subtraction: 4.0 - 6.0 = -2.0\n",
      "Multiplication: 4.0 * 6.0 = 24.0\n"
     ]
    }
   ],
   "source": [
    "#Q7. Write a program that performs basic arithmetic operations on two user-input numbers.\n",
    "\n",
    "def arithmetic_operations(a, b):\n",
    "    print(f\"Addition: {a} + {b} = {a + b}\")\n",
    "    print(f\"Subtraction: {a} - {b} = {a - b}\")\n",
    "    print(f\"Multiplication: {a} * {b} = {a * b}\")\n",
    "    \n",
    "# Taking user input\n",
    "num1 = float(input(\"Enter first number: \"))\n",
    "num2 = float(input(\"Enter second number: \"))\n",
    "\n",
    "\n",
    "arithmetic_operations(num1, num2)\n"
   ]
  },
  {
   "cell_type": "code",
   "execution_count": null,
   "id": "4b784fa3-4b7a-4c8c-831d-87977e6da8a8",
   "metadata": {},
   "outputs": [
    {
     "name": "stdout",
     "output_type": "stream",
     "text": [
      "Enter first number:  5\n",
      "Enter second number:  8\n"
     ]
    },
    {
     "name": "stdout",
     "output_type": "stream",
     "text": [
      "a = 5, b = 8\n",
      "a > 5 and b > 5 : False\n",
      "a > 5 or b > 5 : True\n",
      "not(a > 5) : True\n",
      "not(b > 5) : False\n"
     ]
    }
   ],
   "source": [
    "#Q8. Write a program to demonstrate the use of logical operators.\n",
    "# Function to demonstrate logical operators\n",
    "def logical_demo(a, b):\n",
    "    print(f\"a = {a}, b = {b}\")\n",
    "\n",
    "    print(f\"a > 5 and b > 5 : {a > 5 and b > 5}\")\n",
    "\n",
    "    print(f\"a > 5 or b > 5 : {a > 5 or b > 5}\")\n",
    "\n",
    "    print(f\"not(a > 5) : {not (a > 5)}\")\n",
    "    print(f\"not(b > 5) : {not (b > 5)}\")\n",
    "\n",
    "# Taking user input\n",
    "a = int(input(\"Enter first number: \"))\n",
    "b = int(input(\"Enter second number: \"))\n",
    "\n",
    "# Calling function\n",
    "logical_demo(a, b)\n"
   ]
  },
  {
   "cell_type": "code",
   "execution_count": 8,
   "id": "2c033d88-a45b-4afe-b2e4-11b2fbf714ce",
   "metadata": {},
   "outputs": [
    {
     "name": "stdout",
     "output_type": "stream",
     "text": [
      "integer: 44\n",
      "float :44.0\n",
      "boolean : True\n"
     ]
    }
   ],
   "source": [
    "#Q9. Write a Python program to convert user input from string to integer, float, and boolean types.\n",
    "a_str = input(\"Enter number: \")\n",
    "print(f\"integer: {int(a_str)}\")\n",
    "print(f\"float :{float(a_str)}\")      \n",
    "print(f\"boolean : {bool(a_str)}\")      "
   ]
  },
  {
   "cell_type": "code",
   "execution_count": 9,
   "id": "689f7ccb-f4cf-480f-adde-6d015ef4cb2c",
   "metadata": {},
   "outputs": [
    {
     "name": "stdout",
     "output_type": "stream",
     "text": [
      "list in string ['1', '23', '4', '56', '7']\n",
      "list in float [1.0, 23.0, 4.0, 56.0, 7.0]\n"
     ]
    }
   ],
   "source": [
    "#Q10. Write code to demonstrate type casting with list elements.\n",
    "l=[1,23,4,56,7]\n",
    "l2=list(map(lambda x : str(x),l))\n",
    "l3=list(map(lambda x : float(x),l))\n",
    "print(f\"list in string {l2}\")\n",
    "print(f\"list in float {l3}\")"
   ]
  },
  {
   "cell_type": "code",
   "execution_count": 10,
   "id": "a0ef8f0b-6afe-4157-b714-d60bc25a17a8",
   "metadata": {},
   "outputs": [
    {
     "name": "stdout",
     "output_type": "stream",
     "text": [
      "postive number\n"
     ]
    }
   ],
   "source": [
    "#Q11. Write a program that checks if a number is positive, negative, or zero.\n",
    "n = int(input(\"Enter number: \"))\n",
    "if n>0:\n",
    "    print(\"postive number\")\n",
    "elif n==0:\n",
    "    print(\"its zero\")\n",
    "else :\n",
    "    print(\"negative number\")\n",
    "\n"
   ]
  },
  {
   "cell_type": "code",
   "execution_count": 11,
   "id": "fd1736bf-2216-4077-8501-823880a8b272",
   "metadata": {},
   "outputs": [
    {
     "name": "stdout",
     "output_type": "stream",
     "text": [
      "1\n",
      "2\n",
      "3\n",
      "4\n",
      "5\n",
      "6\n",
      "7\n",
      "8\n",
      "9\n",
      "10\n"
     ]
    }
   ],
   "source": [
    "#Q12. Write a for loop to print numbers from 1 to 10.\n",
    "for i in range(1,11):\n",
    "    print(i)"
   ]
  },
  {
   "cell_type": "code",
   "execution_count": 12,
   "id": "84c084d9-925f-4e9e-a3ee-bf409f8d3b4b",
   "metadata": {},
   "outputs": [
    {
     "name": "stdout",
     "output_type": "stream",
     "text": [
      "sum of all even numbers between 1 and 50 ==650\n"
     ]
    }
   ],
   "source": [
    "#Q13. Write a Python program to find the sum of all even numbers between 1 and 50.\n",
    "l=[i for i in range(1,51) if i%2==0 ]\n",
    "print(f\"sum of all even numbers between 1 and 50 =={sum(l)}\")\n",
    "\n",
    "#print(sum(range(2, 51, 2)))\n"
   ]
  },
  {
   "cell_type": "code",
   "execution_count": 13,
   "id": "dcc6b6fd-729b-49ba-b757-0b85f85f2e1a",
   "metadata": {},
   "outputs": [
    {
     "name": "stdout",
     "output_type": "stream",
     "text": [
      "Reversed string: teej\n"
     ]
    }
   ],
   "source": [
    "#Q14. Write a program to reverse a string using a while loop.\n",
    "\n",
    "string = input(\"Enter a string: \")\n",
    "rev_str = \"\"\n",
    "index = len(string) - 1  \n",
    "\n",
    "while index >= 0:\n",
    "    rev_str += string[index]\n",
    "    index -= 1  # Move to the previous character\n",
    "\n",
    "# Printing the reversed string\n",
    "print(\"Reversed string:\", rev_str)\n"
   ]
  },
  {
   "cell_type": "code",
   "execution_count": 14,
   "id": "a151b3a4-d599-422c-ac38-bd5ea55ac5f9",
   "metadata": {},
   "outputs": [
    {
     "name": "stdout",
     "output_type": "stream",
     "text": [
      "Factorial: 479001600\n"
     ]
    }
   ],
   "source": [
    "#Q15. Write a Python program to calculate the factorial of a number provided by the user using a while loop.\n",
    "n = int(input(\"Enter a number: \"))\n",
    "factorial=1\n",
    "while n>0:\n",
    "    factorial*=n\n",
    "    n-=1\n",
    "\n",
    "print(\"Factorial:\", factorial)"
   ]
  },
  {
   "cell_type": "code",
   "execution_count": null,
   "id": "f166b5c2-c66d-4226-a1bd-8ae72cbe42b8",
   "metadata": {},
   "outputs": [],
   "source": []
  }
 ],
 "metadata": {
  "kernelspec": {
   "display_name": "base",
   "language": "python",
   "name": "python3"
  },
  "language_info": {
   "codemirror_mode": {
    "name": "ipython",
    "version": 3
   },
   "file_extension": ".py",
   "mimetype": "text/x-python",
   "name": "python",
   "nbconvert_exporter": "python",
   "pygments_lexer": "ipython3",
   "version": "3.11.5"
  },
  "panel-cell-order": [
   "d118492d-680d-4c97-adec-49454aa09a9f"
  ]
 },
 "nbformat": 4,
 "nbformat_minor": 5
}
