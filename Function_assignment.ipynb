{
 "cells": [
  {
   "cell_type": "markdown",
   "metadata": {},
   "source": [
    "**Theory Questions:**"
   ]
  },
  {
   "cell_type": "markdown",
   "metadata": {},
   "source": [
    "![question paper](paper.png)"
   ]
  },
  {
   "cell_type": "markdown",
   "metadata": {},
   "source": [
    "1. What is the difference between a function and a method in Python?\n",
    "    - Function: A block of reusable code that performs a specific task and is defined using def.\n",
    "\n",
    "   - Method: A function that is associated with an object and is called using dot notation.\n",
    "\n",
    "    Example:"
   ]
  },
  {
   "cell_type": "code",
   "execution_count": 1,
   "metadata": {},
   "outputs": [
    {
     "name": "stdout",
     "output_type": "stream",
     "text": [
      "Hello, Alice!\n",
      "Hello!\n"
     ]
    }
   ],
   "source": [
    "# Function\n",
    "def greet(name):\n",
    "    return f\"Hello, {name}!\"\n",
    "print(greet(\"Alice\"))\n",
    "\n",
    "# Method\n",
    "class Person:\n",
    "    def greet(self):\n",
    "        return \"Hello!\"\n",
    "p = Person()\n",
    "print(p.greet()) "
   ]
  },
  {
   "cell_type": "markdown",
   "metadata": {},
   "source": [
    "2. Explain the concept of function arguments and parameters in Python.\n",
    "    - Parameters: Variables listed in the function definition.\n",
    "    - Arguments: Values passed to the function when calling it."
   ]
  },
  {
   "cell_type": "code",
   "execution_count": 2,
   "metadata": {},
   "outputs": [
    {
     "name": "stdout",
     "output_type": "stream",
     "text": [
      "8\n"
     ]
    }
   ],
   "source": [
    "def add(a, b): \n",
    "    return a + b\n",
    "print(add(3, 5)) \n"
   ]
  },
  {
   "cell_type": "markdown",
   "metadata": {},
   "source": [
    "3. What are the different ways to define and call a function in Python?\n",
    "   - Normal function\n",
    "   - Lambda function\n",
    "   - Function with default arguments\n",
    "   - Function with *args and **kwargs"
   ]
  },
  {
   "cell_type": "code",
   "execution_count": 3,
   "metadata": {},
   "outputs": [
    {
     "name": "stdout",
     "output_type": "stream",
     "text": [
      "16\n",
      "16\n"
     ]
    }
   ],
   "source": [
    "# Normal function\n",
    "def square(x):\n",
    "    return x * x\n",
    "print(square(4))\n",
    "\n",
    "# Lambda function\n",
    "square_lambda = lambda x: x * x\n",
    "print(square_lambda(4))\n"
   ]
  },
  {
   "cell_type": "markdown",
   "metadata": {},
   "source": [
    "4. What is the purpose of the return statement in a Python function?\n",
    "    - The return statement sends a value back to the caller and terminates the function execution."
   ]
  },
  {
   "cell_type": "code",
   "execution_count": 4,
   "metadata": {},
   "outputs": [
    {
     "name": "stdout",
     "output_type": "stream",
     "text": [
      "6\n"
     ]
    }
   ],
   "source": [
    "def multiply(a, b):\n",
    "    return a * b\n",
    "result = multiply(2, 3)\n",
    "print(result) \n"
   ]
  },
  {
   "cell_type": "markdown",
   "metadata": {},
   "source": [
    "5. What are iterators in Python and how do they differ from iterables?\n",
    "Iterable: An object like a list or tuple that can be looped over.\n",
    "\n",
    "Iterator: An object that implements the __iter__() and __next__() methods."
   ]
  },
  {
   "cell_type": "code",
   "execution_count": 5,
   "metadata": {},
   "outputs": [
    {
     "name": "stdout",
     "output_type": "stream",
     "text": [
      "1\n",
      "2\n"
     ]
    }
   ],
   "source": [
    "nums = [1, 2, 3]  \n",
    "it = iter(nums)\n",
    "print(next(it)) \n",
    "print(next(it))  \n"
   ]
  },
  {
   "cell_type": "markdown",
   "metadata": {},
   "source": [
    "6. Explain the concept of generators in Python and how they are defined.\n",
    "    - Generators are special functions that use yield instead of return to produce a sequence of values lazily."
   ]
  },
  {
   "cell_type": "code",
   "execution_count": 6,
   "metadata": {},
   "outputs": [
    {
     "name": "stdout",
     "output_type": "stream",
     "text": [
      "0\n",
      "1\n"
     ]
    }
   ],
   "source": [
    "def count(n):\n",
    "    for i in range(n):\n",
    "        yield i\n",
    "gen = count(3)\n",
    "print(next(gen))  \n",
    "print(next(gen)) "
   ]
  },
  {
   "cell_type": "markdown",
   "metadata": {},
   "source": [
    "7. What are the advantages of using generators over regular functions?\n",
    "    - Saves memory as it generates values lazily.\n",
    "Improves performance in large data operations."
   ]
  },
  {
   "cell_type": "code",
   "execution_count": null,
   "metadata": {},
   "outputs": [],
   "source": []
  },
  {
   "cell_type": "markdown",
   "metadata": {},
   "source": [
    "8. What is a lambda function in Python and when is it typically used?\n",
    "    - A lambda function is an anonymous function defined using lambda keyword.\n",
    "    Used for short operations where defining a full function is unnecessary."
   ]
  },
  {
   "cell_type": "code",
   "execution_count": 7,
   "metadata": {},
   "outputs": [
    {
     "name": "stdout",
     "output_type": "stream",
     "text": [
      "10\n"
     ]
    }
   ],
   "source": [
    "double = lambda x: x * 2\n",
    "print(double(5))\n"
   ]
  },
  {
   "cell_type": "markdown",
   "metadata": {},
   "source": [
    "9. Explain the purpose and usage of the map() function in Python.\n",
    "    - map() applies a function to each item in an iterable.\n",
    "    Example:"
   ]
  },
  {
   "cell_type": "code",
   "execution_count": 8,
   "metadata": {},
   "outputs": [
    {
     "name": "stdout",
     "output_type": "stream",
     "text": [
      "[1, 4, 9]\n"
     ]
    }
   ],
   "source": [
    "nums = [1, 2, 3]\n",
    "squared = list(map(lambda x: x ** 2, nums))\n",
    "print(squared)  "
   ]
  },
  {
   "cell_type": "markdown",
   "metadata": {},
   "source": [
    "10. What is the difference between map(), reduce(), and filter() functions in Python?\n",
    " - map(): Applies a function to all elements.\n",
    " - filter(): Filters elements based on a condition.\n",
    "  - reduce(): Applies a function cumulatively."
   ]
  },
  {
   "cell_type": "code",
   "execution_count": 9,
   "metadata": {},
   "outputs": [
    {
     "name": "stdout",
     "output_type": "stream",
     "text": [
      "[1, 4, 9, 16]\n",
      "[2, 4]\n",
      "10\n"
     ]
    }
   ],
   "source": [
    "from functools import reduce\n",
    "nums = [1, 2, 3, 4]\n",
    "# map()\n",
    "squared = list(map(lambda x: x ** 2, nums))\n",
    "print(squared) \n",
    "# filter()\n",
    "evens = list(filter(lambda x: x % 2 == 0, nums))\n",
    "print(evens) \n",
    "# reduce()\n",
    "sum_nums = reduce(lambda x, y: x + y, nums)\n",
    "print(sum_nums) \n"
   ]
  },
  {
   "cell_type": "markdown",
   "metadata": {},
   "source": [
    "11. Using pen & paper, write the internal mechanism for sum operation using reduce() function on this list: [47, 11, 42, 13].\n",
    "  -  Step-by-step execution:\n",
    "   - (47 + 11) → 58\n",
    "   - (58 + 42) → 100\n",
    "   - (100 + 13) → 113\n",
    "\n",
    "    So, the final result is 113.\n",
    "\n",
    "                                                   "
   ]
  },
  {
   "cell_type": "code",
   "execution_count": 10,
   "metadata": {},
   "outputs": [
    {
     "name": "stdout",
     "output_type": "stream",
     "text": [
      "113\n"
     ]
    }
   ],
   "source": [
    "from functools import reduce\n",
    "\n",
    "nums = [47, 11, 42, 13]\n",
    "result = reduce(lambda x, y: x + y, nums)\n",
    "print(result)  # 113\n"
   ]
  },
  {
   "cell_type": "markdown",
   "metadata": {},
   "source": [
    "**Practical Questions:**"
   ]
  },
  {
   "cell_type": "code",
   "execution_count": 15,
   "metadata": {},
   "outputs": [
    {
     "name": "stdout",
     "output_type": "stream",
     "text": [
      "The list is  [4, 5, 6]\n",
      "Sum of even numbers in the list: 10\n"
     ]
    }
   ],
   "source": [
    "# Q.1. Write a Python function that takes a list of numbers as input and returns the sum of all even numbers in \n",
    "# the list.\n",
    "def sum_of_evens():\n",
    "    numbers = list(map(int, input(\"Enter numbers separated by spaces: \").split()))\n",
    "    print(\"The list is \",numbers)\n",
    "    return sum(num for num in numbers if num % 2 == 0)\n",
    "\n",
    "print(\"Sum of even numbers in the list:\", sum_of_evens())\n"
   ]
  },
  {
   "cell_type": "code",
   "execution_count": 16,
   "metadata": {},
   "outputs": [
    {
     "name": "stdout",
     "output_type": "stream",
     "text": [
      "The string is :  Jeevan\n",
      "Reversed string: naveeJ\n"
     ]
    }
   ],
   "source": [
    "#  Q.2. Create a Python function that accepts a string and returns the reverse of that string.\n",
    "def reverse_string():\n",
    "    text = input(\"Enter a string: \")\n",
    "    print(\"The string is : \",text)\n",
    "    return text[::-1]\n",
    "\n",
    "print(\"Reversed string:\", reverse_string())\n"
   ]
  },
  {
   "cell_type": "code",
   "execution_count": 17,
   "metadata": {},
   "outputs": [
    {
     "name": "stdout",
     "output_type": "stream",
     "text": [
      "numbers :  [6]\n",
      "Squared numbers: [36]\n"
     ]
    }
   ],
   "source": [
    "#  Q.3. Implement a Python function that takes a list of integers and returns a new list containing the squares of \n",
    "# each number.\n",
    "def square_numbers():\n",
    "    numbers = list(map(int, input(\"Enter numbers separated by spaces: \").split()))\n",
    "    print(\"numbers : \",numbers)\n",
    "    return [num ** 2 for num in numbers]\n",
    "\n",
    "print(\"Squared numbers:\", square_numbers())\n"
   ]
  },
  {
   "cell_type": "code",
   "execution_count": 18,
   "metadata": {},
   "outputs": [
    {
     "name": "stdout",
     "output_type": "stream",
     "text": [
      "5 is a prime number.\n"
     ]
    }
   ],
   "source": [
    "#  Q.4. Write a Python function that checks if a given number is prime or not from 1 to 200.\n",
    "def is_prime():\n",
    "    num = int(input(\"Enter a number (1-200): \"))\n",
    "    \n",
    "    if num < 2 or num > 200:\n",
    "        return \"Please enter a number between 1 and 200.\"\n",
    "    \n",
    "    for i in range(2, int(num ** 0.5) + 1):\n",
    "        if num % i == 0:\n",
    "            return f\"{num} is not a prime number.\"\n",
    "    \n",
    "    return f\"{num} is a prime number.\"\n",
    "\n",
    "print(is_prime())\n"
   ]
  },
  {
   "cell_type": "code",
   "execution_count": 19,
   "metadata": {},
   "outputs": [
    {
     "name": "stdout",
     "output_type": "stream",
     "text": [
      "0 1 1 2 3 "
     ]
    }
   ],
   "source": [
    "# Q. 5. Create an iterator class in Python that generates the Fibonacci sequence up to a specified number of \n",
    "# terms.\n",
    "class Fibonacci:\n",
    "    def __init__(self, n):\n",
    "        self.n = n\n",
    "        self.a, self.b = 0, 1\n",
    "        self.count = 0\n",
    "\n",
    "    def __iter__(self):\n",
    "        return self\n",
    "\n",
    "    def __next__(self):\n",
    "        if self.count < self.n:\n",
    "            result = self.a\n",
    "            self.a, self.b = self.b, self.a + self.b\n",
    "            self.count += 1\n",
    "            return result\n",
    "        else:\n",
    "            raise StopIteration\n",
    "\n",
    "n = int(input(\"Enter the number of terms: \"))\n",
    "fib = Fibonacci(n)\n",
    "\n",
    "for num in fib:\n",
    "    print(num, end=\" \")\n",
    "\n"
   ]
  },
  {
   "cell_type": "code",
   "execution_count": 20,
   "metadata": {},
   "outputs": [
    {
     "name": "stdout",
     "output_type": "stream",
     "text": [
      "[1, 2, 4, 8, 16, 32, 64, 128, 256, 512]\n"
     ]
    }
   ],
   "source": [
    "# Q.6. Write a generator function in Python that yields the powers of 2 up to a given exponent.\n",
    "def powers_of_two(limit):\n",
    "    result = []\n",
    "    for exponent in range(limit + 1):\n",
    "        result.append(2 ** exponent)\n",
    "    return result  \n",
    "\n",
    "n=int(input(\"Enter the number :\"))\n",
    "print(powers_of_two(n))\n"
   ]
  },
  {
   "cell_type": "code",
   "execution_count": null,
   "metadata": {},
   "outputs": [
    {
     "name": "stdout",
     "output_type": "stream",
     "text": [
      "Hello, this is line 1.\n",
      "This is line 2.\n",
      "Python generators are useful!\n"
     ]
    }
   ],
   "source": [
    "# Q.7. Implement a generator function that reads a file line by line and yields each line as a string.\n",
    "def read_file_line_by_line(file_path):\n",
    "    with open(file_path, \"r\") as file:\n",
    "        for line in file:\n",
    "            yield line.strip()  \n",
    "\n",
    "file_path = \"sample.txt\" \n",
    "for line in read_file_line_by_line(file_path):\n",
    "    print(line)\n"
   ]
  },
  {
   "cell_type": "code",
   "execution_count": 21,
   "metadata": {},
   "outputs": [
    {
     "name": "stdout",
     "output_type": "stream",
     "text": [
      "[('parmar', 20), ('jeevan', 22), ('abhishek', 25), ('charminar', 30)]\n"
     ]
    }
   ],
   "source": [
    "# Q.8. Use a lambda function in Python to sort a list of tuples based on the second element of each tuple.\n",
    "data = [(\"abhishek\", 25), (\"parmar\", 20), (\"charminar\", 30), (\"jeevan\", 22)]\n",
    "\n",
    "sorted_data = sorted(data, key=lambda x: x[1])\n",
    "\n",
    "print(sorted_data)\n"
   ]
  },
  {
   "cell_type": "code",
   "execution_count": 22,
   "metadata": {},
   "outputs": [
    {
     "name": "stdout",
     "output_type": "stream",
     "text": [
      "Temperatures in Fahrenheit: [32.0, 50.0, 68.0, 86.0, 104.0, 212.0]\n"
     ]
    }
   ],
   "source": [
    "# Q.9. Write a Python program that uses `map()` to convert a list of temperatures from Celsius to Fahrenheit.\n",
    "def celsius_to_fahrenheit(celsius):\n",
    "    return (celsius * 9/5) + 32\n",
    "\n",
    "celsius_temps = [0, 10, 20, 30, 40, 100]\n",
    "\n",
    "fahrenheit_temps = list(map(celsius_to_fahrenheit, celsius_temps))\n",
    "\n",
    "print(\"Temperatures in Fahrenheit:\", fahrenheit_temps)\n"
   ]
  },
  {
   "cell_type": "code",
   "execution_count": 23,
   "metadata": {},
   "outputs": [
    {
     "name": "stdout",
     "output_type": "stream",
     "text": [
      "String without vowels: jvn\n"
     ]
    }
   ],
   "source": [
    "# Q.10. Create a Python program that uses `filter()` to remove all the vowels from a given string.\n",
    "def is_not_vowel(char):\n",
    "    vowels = \"AEIOUaeiou\"\n",
    "    return char not in vowels \n",
    "\n",
    "text = input(\"Enter a string: \")\n",
    "\n",
    "filtered_text = \"\".join(filter(is_not_vowel, text))\n",
    "\n",
    "print(\"String without vowels:\", filtered_text)\n"
   ]
  },
  {
   "cell_type": "code",
   "execution_count": 24,
   "metadata": {},
   "outputs": [
    {
     "name": "stdout",
     "output_type": "stream",
     "text": [
      "[(34587, 163.8), (98762, 284.0), (77226, 108.85000000000001), (88112, 84.97)]\n"
     ]
    }
   ],
   "source": [
    "# Q. 11 Imagine an accounting routine used in a book shop. It works on a list with sublists, which look like this:\n",
    "orders = [\n",
    "    (34587, \"Learning Python, Mark Lutz\", 4, 40.95),\n",
    "    (98762, \"Programming Python, Mark Lutz\", 5, 56.80),\n",
    "    (77226, \"Head First Python, Paul Barry\", 3, 32.95),\n",
    "    (88112, \"Einführung in Python3, Bernd Klein\", 3, 24.99)\n",
    "]\n",
    "\n",
    "processed_orders = list(map(lambda order: (order[0], \n",
    "                      order[2] * order[3] + (10 if order[2] * order[3] < 100 else 0)), \n",
    "                      orders))\n",
    "\n",
    "print(processed_orders)\n"
   ]
  },
  {
   "cell_type": "code",
   "execution_count": null,
   "metadata": {},
   "outputs": [],
   "source": []
  }
 ],
 "metadata": {
  "kernelspec": {
   "display_name": "base",
   "language": "python",
   "name": "python3"
  },
  "language_info": {
   "codemirror_mode": {
    "name": "ipython",
    "version": 3
   },
   "file_extension": ".py",
   "mimetype": "text/x-python",
   "name": "python",
   "nbconvert_exporter": "python",
   "pygments_lexer": "ipython3",
   "version": "3.11.5"
  }
 },
 "nbformat": 4,
 "nbformat_minor": 4
}
