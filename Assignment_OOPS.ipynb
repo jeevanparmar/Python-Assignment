{
 "cells": [
  {
   "cell_type": "markdown",
   "id": "97a50933",
   "metadata": {},
   "source": [
    "1. What is Object-Oriented Programming (OOP)?\n",
    "-  Object-Oriented Programming (OOP) is a programming paradigm based on the concept of objects, which contain both data (attributes) and methods (functions). It helps in organizing code, making it more reusable, scalable, and easier to debug. Python supports OOP with features like classes, inheritance, and polymorphism."
   ]
  },
  {
   "cell_type": "markdown",
   "id": "4c882a77",
   "metadata": {},
   "source": [
    "2. What is a class in OOP?\n",
    "  - A class is a blueprint for creating objects. \n",
    "  It defines attributes and methods that describe the behavior and state of its objects. In Python, a class is created using the class keyword."
   ]
  },
  {
   "cell_type": "markdown",
   "id": "52834d20",
   "metadata": {},
   "source": [
    "3. What is an object in OOP?\n",
    " - An object is an instance of a class. It holds actual data and can use the methods defined in the class. Multiple objects can be created from a single class."
   ]
  },
  {
   "cell_type": "markdown",
   "id": "3e808ccc",
   "metadata": {},
   "source": [
    "4. What is the difference between abstraction and encapsulation?\n",
    "-  Abstraction hides complex logic and shows only necessary details,\n",
    " while encapsulation wraps data and methods into a single unit (class) and restricts direct access to data. \n",
    " Abstraction focuses on \"what\", and encapsulation focuses on \"how\"."
   ]
  },
  {
   "cell_type": "markdown",
   "id": "ebb9b50d",
   "metadata": {},
   "source": [
    "5. What are dunder methods in Python?\n",
    "- Dunder (double underscore) methods are special methods in Python like __init__, __str__, and __len__.\n",
    " They allow you to define how objects behave with built-in functions and operators."
   ]
  },
  {
   "cell_type": "markdown",
   "id": "f4b4d186",
   "metadata": {},
   "source": [
    "6. Explain the concept of inheritance in OOP.\n",
    "- Inheritance allows a class (child) to acquire properties and methods from another class (parent). It promotes code reuse and logical hierarchy."
   ]
  },
  {
   "cell_type": "markdown",
   "id": "26516728",
   "metadata": {},
   "source": [
    "7. What is polymorphism in OOP?\n",
    "- Polymorphism means \"many forms.\" In OOP, it allows objects of different classes to respond to the same method in different ways."
   ]
  },
  {
   "cell_type": "markdown",
   "id": "f40f80a8",
   "metadata": {},
   "source": [
    "8. How is encapsulation achieved in Python?\n",
    "- Encapsulation is achieved using private variables (prefix with _ or __) and providing public methods (getters/setters) to access or modify them"
   ]
  },
  {
   "cell_type": "markdown",
   "id": "131d179f",
   "metadata": {},
   "source": [
    "9. What is a constructor in Python?\n",
    "- A constructor is a special method __init__() that is called when an object is created. It initializes the object's attributes."
   ]
  },
  {
   "cell_type": "markdown",
   "id": "13bdd341",
   "metadata": {},
   "source": [
    "10. What are class and static methods in Python?\n",
    "- Class methods use @classmethod and take cls as the first parameter. Static methods use @staticmethod and don’t take self or cls. They are bound to the class, not the object."
   ]
  },
  {
   "cell_type": "markdown",
   "id": "149e6555",
   "metadata": {},
   "source": [
    "\n",
    "11. What is method overloading in Python?\n",
    "- Python does not support traditional method overloading. You can achieve it using default arguments or variable arguments (*args)."
   ]
  },
  {
   "cell_type": "markdown",
   "id": "b4ff468f",
   "metadata": {},
   "source": [
    "12. What is method overriding in OOP?\n",
    "- Method overriding allows a child class to provide a specific implementation of a method already defined in the parent class."
   ]
  },
  {
   "cell_type": "markdown",
   "metadata": {},
   "source": [
    "13. What is a property decorator in Python?\n",
    "- The @property decorator allows a method to be accessed like an attribute. It’s used to define getters and setters for encapsulated attributes."
   ]
  },
  {
   "cell_type": "markdown",
   "id": "6dcb0cd3",
   "metadata": {},
   "source": [
    "14. Why is polymorphism important in OOP?\n",
    "- Polymorphism allows for flexible and interchangeable code. You can call the same method on different objects, and each will respond in its own way, promoting code reuse and cleaner code."
   ]
  },
  {
   "cell_type": "markdown",
   "metadata": {},
   "source": [
    "15. What is an abstract class in Python?\n",
    "- An abstract class is a class that can't be instantiated and may contain abstract methods (without implementation). It is defined using the abc module."
   ]
  },
  {
   "cell_type": "markdown",
   "metadata": {},
   "source": [
    "16. What are the advantages of OOP?**  \n",
    "- OOP provides better code organization through encapsulation and modularity. It promotes reusability via inheritance and flexibility using polymorphism. Abstraction helps in hiding complexity, making programs easier to manage. It also enables code maintenance and scalability in large software projects.\n",
    "\n",
    "17. What is the difference between a class variable and an instance variable?**  \n",
    "- Class variables are shared across all instances of a class and are defined at the class level. Instance variables are unique to each object and are defined within the constructor or methods using `self`. Changing a class variable affects all instances, whereas an instance variable change affects only that specific object.\n",
    "\n",
    "18. What is multiple inheritance in Python?**  \n",
    "- Multiple inheritance occurs when a class derives from more than one base class. It allows a subclass to inherit features from multiple parent classes. Python handles method conflicts through a method resolution order (MRO) to determine which method to call if there's ambiguity.\n",
    "\n",
    "19. Explain the purpose of `__str__` and `__repr__` methods in Python.**  \n",
    "- `__str__` provides a user-friendly string representation of an object, mainly used for display. `__repr__` is intended for developers and should return a string that can recreate the object if possible. If `__str__` is not defined, `__repr__` is used as a fallback.\n",
    "\n",
    "20. What is the significance of the `super()` function in Python?**  \n",
    "- The `super()` function is used to call methods from a parent class, enabling access to inherited behavior. It is especially helpful in method overriding and in multiple inheritance where it ensures the proper method resolution. It also reduces hardcoding of class names, improving maintainability.\n",
    "\n",
    "21. What is the significance of the `__del__` method in Python?**  \n",
    "- The `__del__` method is a destructor that is automatically invoked when an object is about to be destroyed. It is mainly used to release external resources such as file handles or network connections. However, its usage should be limited due to unpredictable garbage collection timing.\n",
    "\n",
    "22. What is the difference between `@staticmethod` and `@classmethod` in Python?**  \n",
    "- A `@staticmethod` doesn’t take any implicit first argument and cannot modify class or instance state. A `@classmethod` takes `cls` as the first argument and can access or modify class-level attributes. Both are used when method logic doesn't require access to instance attributes.\n",
    "\n",
    "\n",
    "23. How does polymorphism work in Python with inheritance?**  \n",
    "- In inheritance, polymorphism allows different classes to implement the same method in their own way. It enables the use of a unified interface for different data types or objects. Python dynamically resolves which method to call based on the object’s actual class at runtime.\n",
    "\n",
    "24. What is method chaining in Python OOP?**  \n",
    "- Method chaining is a technique where multiple methods are called in a single line using the same object. Each method returns the object itself (`self`) to allow further calls. It improves code readability and is commonly used in fluent interfaces or builders.\n",
    "\n",
    "25. What is the purpose of the `__call__` method in Python?**  \n",
    "- The `__call__` method allows an object to be invoked like a regular function. This makes the object behave like a callable and is useful in scenarios like decorators, wrappers, or callable classes. It enhances flexibility and reusability in object design."
   ]
  },
  {
   "cell_type": "code",
   "execution_count": 2,
   "id": "cbe81e54",
   "metadata": {},
   "outputs": [
    {
     "name": "stdout",
     "output_type": "stream",
     "text": [
      "Animal speaks in a generic way.\n",
      "Bark!\n"
     ]
    }
   ],
   "source": [
    "#Practical Questions\n",
    "# Q.1. Create a parent class Animal with a method speak() that prints a generic message. Create a child class Dog\n",
    "# that overrides the speak() method to print \"Bark!\".\n",
    "class Animal:\n",
    "    def speak(self):\n",
    "        print(\"Animal speaks in a generic way.\")\n",
    "\n",
    "class Dog(Animal):\n",
    "    def speak(self):\n",
    "        print(\"Bark!\")\n",
    "\n",
    "animal = Animal()\n",
    "dog = Dog()\n",
    "\n",
    "animal.speak()  \n",
    "dog.speak()     "
   ]
  },
  {
   "cell_type": "code",
   "execution_count": 3,
   "id": "8e28f454",
   "metadata": {},
   "outputs": [
    {
     "name": "stdout",
     "output_type": "stream",
     "text": [
      "Circle Area: 78.5\n",
      "Rectangle Area: 24\n"
     ]
    }
   ],
   "source": [
    "# Q.2. Write a program to create an abstract class Shape with a method area(). Derive classes Circle and Rectangle\n",
    "# from it and implement the area() method in both.\n",
    "from abc import ABC, abstractmethod\n",
    "\n",
    "class Shape(ABC):\n",
    "    @abstractmethod\n",
    "    def area(self):\n",
    "        pass\n",
    "\n",
    "class Circle(Shape):\n",
    "    def __init__(self, radius):\n",
    "        self.radius = radius\n",
    "\n",
    "    def area(self):\n",
    "        return 3.14 * self.radius * self.radius\n",
    "\n",
    "class Rectangle(Shape):\n",
    "    def __init__(self, length, width):\n",
    "        self.length = length\n",
    "        self.width = width\n",
    "\n",
    "    def area(self):\n",
    "        return self.length * self.width\n",
    "\n",
    "circle = Circle(5)\n",
    "rectangle = Rectangle(4, 6)\n",
    "\n",
    "print(\"Circle Area:\", circle.area())       \n",
    "print(\"Rectangle Area:\", rectangle.area()) \n"
   ]
  },
  {
   "cell_type": "code",
   "execution_count": 4,
   "metadata": {},
   "outputs": [
    {
     "name": "stdout",
     "output_type": "stream",
     "text": [
      "Type: Four-Wheeler\n",
      "Brand: Tesla\n",
      "Battery Capacity: 75 kWh\n"
     ]
    }
   ],
   "source": [
    "# 3. Implement a multi-level inheritance scenario where a class Vehicle has an attribute type. Derive a class Car\n",
    "# and further derive a class ElectricCar that adds a battery attribute\n",
    "class Vehicle:\n",
    "    def __init__(self, vehicle_type):\n",
    "        self.vehicle_type = vehicle_type\n",
    "\n",
    "class Car(Vehicle):\n",
    "    def __init__(self, vehicle_type, brand):\n",
    "        super().__init__(vehicle_type)\n",
    "        self.brand = brand\n",
    "\n",
    "class ElectricCar(Car):\n",
    "    def __init__(self, vehicle_type, brand, battery_capacity):\n",
    "        super().__init__(vehicle_type, brand)\n",
    "        self.battery_capacity = battery_capacity\n",
    "\n",
    "    def display_info(self):\n",
    "        print(f\"Type: {self.vehicle_type}\")\n",
    "        print(f\"Brand: {self.brand}\")\n",
    "        print(f\"Battery Capacity: {self.battery_capacity}\")\n",
    "\n",
    "ecar = ElectricCar(\"Four-Wheeler\", \"Tesla\", \"75 kWh\")\n",
    "ecar.display_info()\n"
   ]
  },
  {
   "cell_type": "code",
   "execution_count": 5,
   "id": "244ef43a",
   "metadata": {},
   "outputs": [
    {
     "name": "stdout",
     "output_type": "stream",
     "text": [
      "Sparrow flies high in the sky.\n",
      "Penguins can't fly, they swim.\n"
     ]
    }
   ],
   "source": [
    "# 4. Demonstrate polymorphism by creating a base class Bird with a method fly(). Create two derived classes\n",
    "# Sparrow and Penguin that override the fly() method.\n",
    "class Bird:\n",
    "    def fly(self):\n",
    "        print(\"Bird is flying.\")\n",
    "\n",
    "class Sparrow(Bird):\n",
    "    def fly(self):\n",
    "        print(\"Sparrow flies high in the sky.\")\n",
    "\n",
    "class Penguin(Bird):\n",
    "    def fly(self):\n",
    "        print(\"Penguins can't fly, they swim.\")\n",
    "\n",
    "birds = [Sparrow(), Penguin()]\n",
    "\n",
    "for bird in birds:\n",
    "    bird.fly()\n"
   ]
  },
  {
   "cell_type": "code",
   "execution_count": 6,
   "id": "473fe34f",
   "metadata": {},
   "outputs": [
    {
     "name": "stdout",
     "output_type": "stream",
     "text": [
      "Deposited: 500\n",
      "Withdrawn: 300\n",
      "Current Balance: 1200\n"
     ]
    }
   ],
   "source": [
    "# 5. Write a program to demonstrate encapsulation by creating a class BankAccount with private attributes\n",
    "# balance and methods to deposit, withdraw, and check balance.\n",
    "class BankAccount:\n",
    "    def __init__(self, initial_balance=0):\n",
    "        self.__balance = initial_balance  \n",
    "\n",
    "    def deposit(self, amount):\n",
    "        if amount > 0:\n",
    "            self.__balance += amount\n",
    "            print(f\"Deposited: {amount}\")\n",
    "        else:\n",
    "            print(\"Invalid deposit amount.\")\n",
    "\n",
    "    def withdraw(self, amount):\n",
    "        if 0 < amount <= self.__balance:\n",
    "            self.__balance -= amount\n",
    "            print(f\"Withdrawn: {amount}\")\n",
    "        else:\n",
    "            print(\"Insufficient balance or invalid amount.\")\n",
    "\n",
    "    def check_balance(self):\n",
    "        print(f\"Current Balance: {self.__balance}\")\n",
    "\n",
    "account = BankAccount(1000)\n",
    "account.deposit(500)\n",
    "account.withdraw(300)\n",
    "account.check_balance()\n"
   ]
  },
  {
   "cell_type": "code",
   "execution_count": 7,
   "id": "d9e8e723",
   "metadata": {},
   "outputs": [
    {
     "name": "stdout",
     "output_type": "stream",
     "text": [
      "Guitar is strumming chords.\n",
      "Piano is playing melodies.\n"
     ]
    }
   ],
   "source": [
    "# 6. Demonstrate runtime polymorphism using a method play() in a base class Instrument. Derive classes Guitar\n",
    "# and Piano that implement their own version of play().\n",
    "class Instrument:\n",
    "    def play(self):\n",
    "        print(\"Instrument is playing music.\")\n",
    "\n",
    "class Guitar(Instrument):\n",
    "    def play(self):\n",
    "        print(\"Guitar is strumming chords.\")\n",
    "\n",
    "class Piano(Instrument):\n",
    "    def play(self):\n",
    "        print(\"Piano is playing melodies.\")\n",
    "\n",
    "instruments = [Guitar(), Piano()]\n",
    "\n",
    "for instrument in instruments:\n",
    "    instrument.play()\n"
   ]
  },
  {
   "cell_type": "code",
   "execution_count": 8,
   "metadata": {},
   "outputs": [
    {
     "name": "stdout",
     "output_type": "stream",
     "text": [
      "Addition: 15\n",
      "Subtraction: 5\n"
     ]
    }
   ],
   "source": [
    "# 7. Create a class MathOperations with a class method add_numbers() to add two numbers and a static\n",
    "# method subtract_numbers() to subtract two numbers.\n",
    "class MathOperations:\n",
    "    @classmethod\n",
    "    def add_numbers(cls, a, b):\n",
    "        return a + b\n",
    "\n",
    "    @staticmethod\n",
    "    def subtract_numbers(a, b):\n",
    "        return a - b\n",
    "\n",
    "print(\"Addition:\", MathOperations.add_numbers(10, 5))\n",
    "print(\"Subtraction:\", MathOperations.subtract_numbers(10, 5))\n"
   ]
  },
  {
   "cell_type": "code",
   "execution_count": 9,
   "id": "f05822d9",
   "metadata": {},
   "outputs": [
    {
     "name": "stdout",
     "output_type": "stream",
     "text": [
      "Total Persons: 3\n"
     ]
    }
   ],
   "source": [
    "# 8. Implement a class Person with a class method to count the total number of persons created.\n",
    "class Person:\n",
    "    count = 0\n",
    "\n",
    "    def __init__(self, name):\n",
    "        self.name = name\n",
    "        Person.count += 1\n",
    "\n",
    "    @classmethod\n",
    "    def total_persons(cls):\n",
    "        return cls.count\n",
    "\n",
    "p1 = Person(\"Alice\")\n",
    "p2 = Person(\"Bob\")\n",
    "p3 = Person(\"Charlie\")\n",
    "\n",
    "print(\"Total Persons:\", Person.total_persons())\n"
   ]
  },
  {
   "cell_type": "code",
   "execution_count": 10,
   "id": "3236fd13",
   "metadata": {},
   "outputs": [
    {
     "name": "stdout",
     "output_type": "stream",
     "text": [
      "3/4\n"
     ]
    }
   ],
   "source": [
    "# 9. Write a class Fraction with attributes numerator and denominator. Override the str method to display the\n",
    "# fraction as \"numerator/denominator\".\n",
    "class Fraction:\n",
    "    def __init__(self, numerator, denominator):\n",
    "        self.numerator = numerator\n",
    "        self.denominator = denominator\n",
    "\n",
    "    def __str__(self):\n",
    "        return f\"{self.numerator}/{self.denominator}\"\n",
    "\n",
    "f = Fraction(3, 4)\n",
    "print(f)\n"
   ]
  },
  {
   "cell_type": "code",
   "execution_count": 11,
   "id": "3031f75f",
   "metadata": {},
   "outputs": [
    {
     "name": "stdout",
     "output_type": "stream",
     "text": [
      "Vector(6, 8)\n"
     ]
    }
   ],
   "source": [
    "# 10. Demonstrate operator overloading by creating a class Vector and overriding the add method to add two\n",
    "# vectors.\n",
    "class Vector:\n",
    "    def __init__(self, x, y):\n",
    "        self.x = x\n",
    "        self.y = y\n",
    "\n",
    "    def __add__(self, other):\n",
    "        return Vector(self.x + other.x, self.y + other.y)\n",
    "\n",
    "    def __str__(self):\n",
    "        return f\"Vector({self.x}, {self.y})\"\n",
    "\n",
    "v1 = Vector(2, 3)\n",
    "v2 = Vector(4, 5)\n",
    "v3 = v1 + v2\n",
    "print(v3)\n"
   ]
  },
  {
   "cell_type": "code",
   "execution_count": 12,
   "id": "e5326d01",
   "metadata": {},
   "outputs": [
    {
     "name": "stdout",
     "output_type": "stream",
     "text": [
      "Hello, my name is Alice and I am 25 years old.\n"
     ]
    }
   ],
   "source": [
    "# 11. Create a class Person with attributes name and age. Add a method greet() that prints \"Hello, my name is\n",
    "# {name} and I am {age} years old.\"\n",
    "\n",
    "class Person:\n",
    "    def __init__(self, name, age):\n",
    "        self.name = name\n",
    "        self.age = age\n",
    "\n",
    "    def greet(self):\n",
    "        print(f\"Hello, my name is {self.name} and I am {self.age} years old.\")\n",
    "\n",
    "p = Person(\"Alice\", 25)\n",
    "p.greet()\n",
    "\n"
   ]
  },
  {
   "cell_type": "code",
   "execution_count": 13,
   "id": "b55cb41a",
   "metadata": {},
   "outputs": [
    {
     "name": "stdout",
     "output_type": "stream",
     "text": [
      "Average Grade: 86.25\n"
     ]
    }
   ],
   "source": [
    "# 12. Implement a class Student with attributes name and grades. Create a method average_grade() to compute\n",
    "# the average of the grades.\n",
    "class Student:\n",
    "    def __init__(self, name, grades):\n",
    "        self.name = name\n",
    "        self.grades = grades\n",
    "\n",
    "    def average_grade(self):\n",
    "        return sum(self.grades) / len(self.grades)\n",
    "\n",
    "s = Student(\"John\", [85, 90, 78, 92])\n",
    "print(\"Average Grade:\", s.average_grade())\n"
   ]
  },
  {
   "cell_type": "code",
   "execution_count": 14,
   "id": "0df594cf",
   "metadata": {},
   "outputs": [
    {
     "name": "stdout",
     "output_type": "stream",
     "text": [
      "Area of rectangle: 50\n"
     ]
    }
   ],
   "source": [
    "# 13. Create a class Rectangle with methods set_dimensions() to set the dimensions and area() to calculate the\n",
    "# area.\n",
    "class Rectangle:\n",
    "    def __init__(self):\n",
    "        self.length = 0\n",
    "        self.width = 0\n",
    "\n",
    "    def set_dimensions(self, length, width):\n",
    "        self.length = length\n",
    "        self.width = width\n",
    "\n",
    "    def area(self):\n",
    "        return self.length * self.width\n",
    "\n",
    "# Example usage:\n",
    "rect = Rectangle()\n",
    "rect.set_dimensions(10, 5)\n",
    "print(\"Area of rectangle:\", rect.area())\n"
   ]
  },
  {
   "cell_type": "code",
   "execution_count": 15,
   "id": "0b8e8d35",
   "metadata": {},
   "outputs": [
    {
     "name": "stdout",
     "output_type": "stream",
     "text": [
      "Alice's Salary: $800\n",
      "Bob's Salary with Bonus: $1700\n"
     ]
    }
   ],
   "source": [
    "# 14. Create a class Employee with a method calculate_salary() that computes the salary based on hours worked\n",
    "# and hourly rate. Create a derived class Manager that adds a bonus to the salary.\n",
    "class Employee:\n",
    "    def __init__(self, name):\n",
    "        self.name = name\n",
    "        self.hours_worked = 0\n",
    "        self.hourly_rate = 0\n",
    "\n",
    "    def set_details(self, hours_worked, hourly_rate):\n",
    "        self.hours_worked = hours_worked\n",
    "        self.hourly_rate = hourly_rate\n",
    "\n",
    "    def calculate_salary(self):\n",
    "        return self.hours_worked * self.hourly_rate\n",
    "\n",
    "\n",
    "class Manager(Employee):\n",
    "    def __init__(self, name):\n",
    "        super().__init__(name)\n",
    "        self.bonus = 0\n",
    "\n",
    "    def set_bonus(self, bonus):\n",
    "        self.bonus = bonus\n",
    "\n",
    "    def calculate_salary(self):\n",
    "        base_salary = super().calculate_salary()\n",
    "        return base_salary + self.bonus\n",
    "\n",
    "\n",
    "# Example usage:\n",
    "emp = Employee(\"Alice\")\n",
    "emp.set_details(40, 20)\n",
    "print(f\"{emp.name}'s Salary: ${emp.calculate_salary()}\")\n",
    "\n",
    "mgr = Manager(\"Bob\")\n",
    "mgr.set_details(40, 30)\n",
    "mgr.set_bonus(500)\n",
    "print(f\"{mgr.name}'s Salary with Bonus: ${mgr.calculate_salary()}\")\n"
   ]
  },
  {
   "cell_type": "code",
   "execution_count": 16,
   "id": "e1730afa",
   "metadata": {},
   "outputs": [
    {
     "name": "stdout",
     "output_type": "stream",
     "text": [
      "Total price for Laptop: ₹100000\n"
     ]
    }
   ],
   "source": [
    "# 15. Create a class Product with attributes name, price, and quantity. Implement a method total_price() that\n",
    "# calculates the total price of the product.\n",
    "class Product:\n",
    "    def __init__(self, name, price, quantity):\n",
    "        self.name = name\n",
    "        self.price = price\n",
    "        self.quantity = quantity\n",
    "\n",
    "    def total_price(self):\n",
    "        return self.price * self.quantity\n",
    "\n",
    "\n",
    "# Example usage:\n",
    "product = Product(\"Laptop\", 50000, 2)\n",
    "print(f\"Total price for {product.name}: ₹{product.total_price()}\")\n"
   ]
  },
  {
   "cell_type": "code",
   "execution_count": 17,
   "id": "bedb912b",
   "metadata": {},
   "outputs": [
    {
     "name": "stdout",
     "output_type": "stream",
     "text": [
      "Cow sound: Moo\n",
      "Sheep sound: Baa\n"
     ]
    }
   ],
   "source": [
    "# 16. Create a class Animal with an abstract method sound(). Create two derived classes Cow and Sheep that\n",
    "# implement the sound() method\n",
    "from abc import ABC, abstractmethod\n",
    "\n",
    "class Animal(ABC):\n",
    "    @abstractmethod\n",
    "    def sound(self):\n",
    "        pass\n",
    "\n",
    "class Cow(Animal):\n",
    "    def sound(self):\n",
    "        return \"Moo\"\n",
    "\n",
    "class Sheep(Animal):\n",
    "    def sound(self):\n",
    "        return \"Baa\"\n",
    "\n",
    "# Example usage:\n",
    "cow = Cow()\n",
    "sheep = Sheep()\n",
    "\n",
    "print(\"Cow sound:\", cow.sound())\n",
    "print(\"Sheep sound:\", sheep.sound())\n"
   ]
  },
  {
   "cell_type": "code",
   "execution_count": 18,
   "id": "659b0015",
   "metadata": {},
   "outputs": [
    {
     "name": "stdout",
     "output_type": "stream",
     "text": [
      "'The Alchemist' by Paulo Coelho, published in 1988\n"
     ]
    }
   ],
   "source": [
    "# 17. Create a class Book with attributes title, author, and year_published. Add a method get_book_info() that\n",
    "# returns a formatted string with the book's details.\n",
    "class Book:\n",
    "    def __init__(self, title, author, year_published):\n",
    "        self.title = title\n",
    "        self.author = author\n",
    "        self.year_published = year_published\n",
    "\n",
    "    def get_book_info(self):\n",
    "        return f\"'{self.title}' by {self.author}, published in {self.year_published}\"\n",
    "\n",
    "# Example usage:\n",
    "book = Book(\"The Alchemist\", \"Paulo Coelho\", 1988)\n",
    "print(book.get_book_info())\n"
   ]
  },
  {
   "cell_type": "code",
   "execution_count": 19,
   "id": "bfdc1834",
   "metadata": {},
   "outputs": [
    {
     "name": "stdout",
     "output_type": "stream",
     "text": [
      "Address: 123 Green Street, Price: ₹5000000\n",
      "Address: 456 Royal Avenue, Price: ₹20000000, Rooms: 10\n"
     ]
    }
   ],
   "source": [
    "# 18. Create a class House with attributes address and price. Create a derived class Mansion that adds an\n",
    "# attribute number_of_rooms.\n",
    "class House:\n",
    "    def __init__(self, address, price):\n",
    "        self.address = address\n",
    "        self.price = price\n",
    "\n",
    "    def get_details(self):\n",
    "        return f\"Address: {self.address}, Price: ₹{self.price}\"\n",
    "\n",
    "class Mansion(House):\n",
    "    def __init__(self, address, price, number_of_rooms):\n",
    "        super().__init__(address, price)\n",
    "        self.number_of_rooms = number_of_rooms\n",
    "\n",
    "    def get_details(self):\n",
    "        return f\"{super().get_details()}, Rooms: {self.number_of_rooms}\"\n",
    "\n",
    "# Example usage:\n",
    "house = House(\"123 Green Street\", 5000000)\n",
    "print(house.get_details())\n",
    "\n",
    "mansion = Mansion(\"456 Royal Avenue\", 20000000, 10)\n",
    "print(mansion.get_details())\n"
   ]
  },
  {
   "cell_type": "code",
   "execution_count": null,
   "id": "53daa81a",
   "metadata": {},
   "outputs": [],
   "source": []
  }
 ],
 "metadata": {
  "kernelspec": {
   "display_name": "base",
   "language": "python",
   "name": "python3"
  },
  "language_info": {
   "codemirror_mode": {
    "name": "ipython",
    "version": 3
   },
   "file_extension": ".py",
   "mimetype": "text/x-python",
   "name": "python",
   "nbconvert_exporter": "python",
   "pygments_lexer": "ipython3",
   "version": "3.11.5"
  }
 },
 "nbformat": 4,
 "nbformat_minor": 5
}
